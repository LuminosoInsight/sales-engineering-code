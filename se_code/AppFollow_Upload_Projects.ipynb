{
 "cells": [
  {
   "cell_type": "markdown",
   "metadata": {},
   "source": [
    "# Prepare AppFollow data for Upload to Luminoso Projects\n",
    "## It will also filter languages and save to JSON files to your folder as backup"
   ]
  },
  {
   "cell_type": "markdown",
   "metadata": {},
   "source": [
    "## The Luminoso API documentation is  [Here](https://analytics.luminoso.com/api/v4/#Prediction)"
   ]
  },
  {
   "cell_type": "markdown",
   "metadata": {},
   "source": [
    "given json format of AppFollow data:\n",
    "\n",
    "{\"reviews\":\n",
    "[\n",
    "{\"rating\":2,\"date\":\"2016-06-01\",\"created\":\"2016-08-19 20:18:23\",\"content\":\"SOME TEXT\",\n",
    "\"store\":\"as\",\"rating_prev\":0,\"user_id\":\"USERZ\",\"id\":5555,\"ext_id\":\"5555\",\n",
    "\"is_answer\":0,\"app_version\":\"2.2\",\"app_id\":46045,\"was_changed\":0,\"locale\":\"de\",\"author\":\"ABC\",\"review_id\":\"555\",\"title\":\"SOME TITLE\",\"updated\":\"2017-06-03 19:49:16\"},\n",
    "\n",
    "{\"rating\":1,\"date\":\"2016-06-01\",\"created\":\"2016-08-19 20:18:23\",\"content\":\"SOME TEXT 2\",\n",
    "\"store\":\"as\",\"rating_prev\":0,\"user_id\":\"USERX\",\"id\":4444,\"ext_id\":\"4444\",\n",
    "\"app_version\":\"2.2\",\"is_answer\":0,\"app_id\":46045,\"was_changed\":0,\"locale\":\"be\",\"author\":\"XYZ\",\"review_id\":\"111\",\"title\":\"SOME TITLE 2\",\"updated\":\"2017-06-03 19:49:16\"}\n",
    "]\n",
    "}"
   ]
  },
  {
   "cell_type": "markdown",
   "metadata": {},
   "source": [
    "### Load libraries and some utility functions"
   ]
  },
  {
   "cell_type": "code",
   "execution_count": 1,
   "metadata": {},
   "outputs": [],
   "source": [
    "import json\n",
    "import os\n",
    "import csv"
   ]
  },
  {
   "cell_type": "code",
   "execution_count": 2,
   "metadata": {},
   "outputs": [],
   "source": [
    "#load and save to JSON type files\n",
    "import json\n",
    "\n",
    "def load_json_data(filename):\n",
    "    with open(filename) as json_data:\n",
    "        return json.load(json_data)\n",
    "\n",
    "def save_as_json_file(data, filename):\n",
    "    if filename[-5:] != '.json':\n",
    "        file = filename + '.json'\n",
    "    with open(file, 'w') as f:\n",
    "        json.dump(data, f)\n",
    "        print(\"JSON data saved to file: \", file)"
   ]
  },
  {
   "cell_type": "code",
   "execution_count": 3,
   "metadata": {},
   "outputs": [],
   "source": [
    "# create a stats dict from a list of dict data, and a given dict entry:\n",
    "def dict_stats(entry, dictdata):\n",
    "    stats_list = {}\n",
    "    for n in dictdata:\n",
    "        k = n[entry]\n",
    "        if k in stats_list:\n",
    "            stats_list[k] = stats_list[k] + 1\n",
    "        else:\n",
    "            stats_list[k] = 1\n",
    "    print(\"Stats count for each type of \" + entry + \":\\n\", stats_list)\n",
    "    return stats_list"
   ]
  },
  {
   "cell_type": "code",
   "execution_count": 4,
   "metadata": {},
   "outputs": [],
   "source": [
    "import argparse, cld2\n",
    "\n",
    "def remove_foreign_languages(docs, lang_code, threshold=0):\n",
    "    good_documents = []\n",
    "    bad_documents = []\n",
    "    for doc in docs:\n",
    "        isbad = False\n",
    "        try:\n",
    "            isReliable, textBytesFound, details = cld2.detect(doc['text'])\n",
    "        except ValueError:\n",
    "            isbad = True\n",
    "            continue\n",
    "        if not details[0][1] == lang_code and isReliable or details[0][2] < threshold:\n",
    "                isbad = True\n",
    "        if isbad:\n",
    "            bad_documents.append(doc)\n",
    "        else:\n",
    "            good_documents.append(doc)\n",
    "    print('{} documents not identified as \"{}\" removed from project.'.format(len(bad_documents),lang_code))\n",
    "    return good_documents, bad_documents"
   ]
  },
  {
   "cell_type": "markdown",
   "metadata": {},
   "source": [
    "## Load the Input JSON data from AppFollow"
   ]
  },
  {
   "cell_type": "code",
   "execution_count": 5,
   "metadata": {},
   "outputs": [],
   "source": [
    "INPUT_FILENAME = \"AppFollowReviews.json\"\n",
    "#currentPath = os.getcwd()"
   ]
  },
  {
   "cell_type": "code",
   "execution_count": 6,
   "metadata": {},
   "outputs": [],
   "source": [
    "raw_data = load_json_data(INPUT_FILENAME)"
   ]
  },
  {
   "cell_type": "code",
   "execution_count": 7,
   "metadata": {},
   "outputs": [
    {
     "data": {
      "text/plain": [
       "200"
      ]
     },
     "execution_count": 7,
     "metadata": {},
     "output_type": "execute_result"
    }
   ],
   "source": [
    "data = raw_data['reviews']\n",
    "len(data)"
   ]
  },
  {
   "cell_type": "code",
   "execution_count": 8,
   "metadata": {},
   "outputs": [
    {
     "data": {
      "text/plain": [
       "{'app_id': 46045,\n",
       " 'app_version': '2.2',\n",
       " 'author': 'MrWasGehtSieDasAn?',\n",
       " 'content': 'Anmeldung scheitert schon beim Versuch die Telefonnummer einzugeben',\n",
       " 'created': '2016-08-19 20:18:23',\n",
       " 'date': '2016-06-01',\n",
       " 'ext_id': '958825016',\n",
       " 'id': 31373523,\n",
       " 'is_answer': 0,\n",
       " 'locale': 'de',\n",
       " 'rating': 1,\n",
       " 'rating_prev': 0,\n",
       " 'review_id': '1387505834',\n",
       " 'store': 'as',\n",
       " 'title': 'Anmeldung...',\n",
       " 'updated': '2017-06-03 19:49:16',\n",
       " 'user_id': '462945259',\n",
       " 'was_changed': 0}"
      ]
     },
     "execution_count": 8,
     "metadata": {},
     "output_type": "execute_result"
    }
   ],
   "source": [
    "data[0]"
   ]
  },
  {
   "cell_type": "code",
   "execution_count": 9,
   "metadata": {},
   "outputs": [
    {
     "data": {
      "text/plain": [
       "{'app_id': 46045,\n",
       " 'app_version': '2.2',\n",
       " 'author': 'Tim1901',\n",
       " 'content': 'Deutsche Telefonnummern gehen nicht 🖕🏾🖕🏾',\n",
       " 'created': '2016-08-19 20:18:23',\n",
       " 'date': '2016-06-01',\n",
       " 'ext_id': '958825016',\n",
       " 'id': 31373524,\n",
       " 'is_answer': 0,\n",
       " 'locale': 'de',\n",
       " 'rating': 1,\n",
       " 'rating_prev': 0,\n",
       " 'review_id': '1387501310',\n",
       " 'store': 'as',\n",
       " 'title': '???',\n",
       " 'updated': '2017-06-03 19:49:16',\n",
       " 'user_id': '238232117',\n",
       " 'was_changed': 0}"
      ]
     },
     "execution_count": 9,
     "metadata": {},
     "output_type": "execute_result"
    }
   ],
   "source": [
    "data[1]"
   ]
  },
  {
   "cell_type": "code",
   "execution_count": 9,
   "metadata": {},
   "outputs": [
    {
     "name": "stdout",
     "output_type": "stream",
     "text": [
      "Stats count for each type of locale:\n",
      " {'de': 124, 'be': 12, 'da': 16, 'ca': 48}\n"
     ]
    }
   ],
   "source": [
    "locale_counts = dict_stats('locale', data)"
   ]
  },
  {
   "cell_type": "markdown",
   "metadata": {},
   "source": [
    "## Keep only the necessary fields and sort by language\n",
    "#### The only *compulsory* field is the Text, which here is 'content'. All other extra fields are metadata.\n",
    "#### We also need to seperate  between different languages (locale). Here we show how to keep German reviews"
   ]
  },
  {
   "cell_type": "code",
   "execution_count": 10,
   "metadata": {},
   "outputs": [],
   "source": [
    "# we split the data by locale:\n",
    "loc_data = {}\n",
    "for loc in locale_counts:\n",
    "    loc_data[loc] = [d for d in data if d['locale'] == loc] "
   ]
  },
  {
   "cell_type": "code",
   "execution_count": 11,
   "metadata": {},
   "outputs": [
    {
     "data": {
      "text/plain": [
       "dict_keys(['de', 'be', 'da', 'ca'])"
      ]
     },
     "execution_count": 11,
     "metadata": {},
     "output_type": "execute_result"
    }
   ],
   "source": [
    "loc_data.keys()"
   ]
  },
  {
   "cell_type": "code",
   "execution_count": 12,
   "metadata": {},
   "outputs": [
    {
     "name": "stdout",
     "output_type": "stream",
     "text": [
      "Anmeldung scheitert schon beim Versuch die Telefonnummer einzugeben\n",
      "Deutsche Telefonnummern gehen nicht 🖕🏾🖕🏾\n",
      "Can't verify my number? app needs a update asap!\n",
      "Nicht möglich eine Nummer einzugeben\n",
      "my phone number don't fit\n",
      "Unable to enter my telephone number\n",
      "Ich habe versucht mich anzumelden und kann meine Handynummer nicht angeben, da man nur amerikanische Nummern eingeben kann. Bitte beheben.\n",
      "They say European cities are available but they aren't. What the sense of this\n",
      "Warum sollte ich mir die Schuhe in London reservieren. Wie soll ich bitte schnell nach London kommen .. Like .. Ich wohne in Aachen .. Köln würde eventuell gehen für nen Yeezy boost 350.. Und das wuerde schon unglaublich viel kosten.. Außerdem wurde Adidas doch in Deutschland gegründet, warum also kann ich nicht einfach in meiner Stadt (Aachen) oder wenigstens Köln .. Was wieder krasse Kosten wären .. reservieren\n",
      "Endlich ist die App in Deutschland. Aber schade ist, dass man sich in der Stadt befinden muss in der der Release stattfindet.\n",
      "Man kann sich mit einer deutschen Telefonnummer nicht anmelden\n",
      "Wenn bald neue Sneaker rauskommen geht es dann so richtig los. Anfangs zumindest Chancengleichheit da es keine Bots gibt. :)\n",
      "Endlich auch in Deutschland👌\n",
      "nur für Berlin\n",
      "Finde es schade das sie nur in Berlin erscheinen. Die Yeezy Boost 350 Pirat Black sind auch schon in Stuttgart erschienen wie erscheinen die Yeezy Boost 750 auch nicht in Stuttgart ? Und wieso muss ich in der leben ? Ich wäre nach Berlin gefahren für den Schuh....\n",
      "Leider ist die App für Kunden in Europa nutzlos Man kann nur aus 3 Städten wählen in ganz Europa also haben 1 Milliarden Menschen Pech gehabt und die 1 Millionen aus den gewählten Städten Glück Hersteller aus Deutschland aber alles funktioniert nur für Amerikaner schon peinlich\n",
      "Mein Handy ist nicht gerootet. Trotzdem lässt sich die eben wegen entsprechender Fehlermeldung nicht öffnen.\n",
      "Finde die app geil lebe auch in berlin aber bei mir kommt sobald ich mir ein konto maxhen will die fehlermeldung provieren sie es später erneut was soll ich tun\n",
      "Auf meinem iPhone 5 funktioniert die Standortbestimmung trotz eingeschalteter Ortungsdienste nicht, bzw. man kann der App den Zugriff auf den Standort nicht erlauben! Ohne das geht mit der App gar nichts! Schnell Update nachreichen!!!\n",
      "Bringt nur Leuten was, die sich in den sogenannten Reservierungszonen aufhalten... Die nächste is in Berlin, gute 700 km weg von mir...\n",
      "Was soll das ? Wieso muss man zu diesen Städten hin um Reservieren zu können!??.... Die idee ist zwar genial aber alles andere nicht! Das bringt mir nichts weil ich leider in Stuttgart wohne!!!😤\n",
      "Mein Handy ist nicht gerooted soll es aber angeblich sein deshalb kann ich die App nicht verwenden. Wieso muss man sich in Berlin befinden um mitzumachen ich würde für die Yeezy 750 auch nach Berlin fahren um sie abzuholen.\n",
      "Ich liebe adidas und schuhe\n",
      "kann mir einer sagen wann endlich der Butten kommt wo ich draufklicken muss?\n",
      "IHR LAPPEN ALDA BESTE APP DIGGA\n",
      "Direkt auf reservieren gedrückt als der Button erschienen ist und trotzdem innerhalb von 10 Sekunden weg. Von wegen mehr Verfügbarkeit, das einzige was Adidas will ist noch mehr Hype. Sehr schlechtes Konzept 👎🏼\n",
      "Ihr behinderten Adidas murruks ihr seid solche Lappen warum produziert ihr so verfickt wenig paar von den Yeezy's her aber um die 1.000.000.000 paar Superstars die sowieso keiner kaufen will !!!???? Ich rasier euch mit Benzin amk\n",
      "Gerät soll anscheinend gerootet sein. Ich denke nicht.\n",
      "Kacke\n",
      "Dass is so ein feke scheis auf die bulenn\n",
      "Standortbestimmung funktioniert nicht . Die App ist damit unbrauchbar. Absolut grottig\n",
      "Bitte bald auch für München verfügbar machen !! 👍🏽\n",
      "Unbrauchbar\n",
      "☆☆☆☆☆\n",
      "bye bye...crappi idea\n",
      "Keine Releases\n",
      "The app is pretty amazing I appreciate the coding and the flawless layout. Great work\n",
      "Diese App ist nur für Nutzer zu empfehlen, die gerne lange warten, viel Speicherplatz auf dem Handy haben und sich im Metier von Lotterie Gewinnspielen aufhalten. Ein Schuh wird angezeigt, man muss sich anmelden und darf hoffen, dass man der eine Glückliche ist, der das angezeigte Produkt erhält. Für alle anderen Anmelder handelt es sich um negative Erfahrungen und sinnfreie Anmeldung ihrer E-Mail Adresse. Zusammengefasst, eine App für nichts.\n",
      "Bisher sind nur die Städte Berlin, London und Mailand vertreten, wenn man da nicht wohnt, bringt einem das also nicht viel.\n",
      "Man kann nur Schuhe in Deutschland reservieren wenn man sich in Berlin befindet??? Mit anderen Worten: Jeder Mensch der in Deutschland wohnt und nicht in Berlin kann die App in die Tonne kloppen... Die armen Programmierer... Tolle Idee, schlecht ungesetzt.\n",
      "Möchte mich noch für die Neuen Yeezy's registrieren . Ich kann mich aber nicht anmelden?!\n",
      "Berlin als einzigen Ort. Richtig schlecht.\n",
      "Diese App ist der letzte Dreck! Um Punkt 16 Uhr bin ich in Berlin und warte darauf auf den Button zu klicken um mir mein Paar zu sichern und prompt steht dort sofort das sie nicht mehr verfügbar sind. Das kann nicht sein! Ich war mindestens einer der schnellste und es können nicht sofort alle ausverkauft sein! Adidas will nur die Daten von euch haben! Ich erwarte eine Stellungnahme, ich fühle mich betrogen und um meine Zeit und mein Geld beklaut!\n",
      "Nur wer in Berlin wohnt bzw. sich zum Zeitpunkt der Reservierung dort aufhält kann reservieren. Aber das erfährt man erst, nachdem man schon seine persönlichen Daten eingeben hat. Ich wäre auch bei erfolgreicher Reservierung nach Berlin gefahren. Wie bereits an anderer Stelle erwähnt, scheint die App nur dazu entwickelt worden zu sein, um Daten abzufishen.\n",
      "Top\n",
      "Tut was es soll :) #Yeezy350V2\n",
      "So an alle die rumheulen :\"mimimimi ich hab den yeezy nicht bekommen der war sofort weg!\" Was erwartet ihr? Natürlich sind die sofort weg wenn tausende Menschen auf diesen Knopf drücken! Ich hab jetzt schon 2 mal Schuhe gekriegt. Einmal die Yeezy Infants und jetzt den yeezy 350 v2 . Ich bin als Berliner wirklich mehr als zufrieden mit dieser App. Einfach ein MUSS für Sneakerheads die auch in Berlin oder in anderen verfügbaren Städten wohnen.\n",
      "App funktioniert Perfekt und hatte schon 2.mal das Glück Yeezy's zu bekommen:)\n",
      "Danke für yeezy 350 v2 :))\n",
      "Richtig schlecht\n",
      "Die Bewertungen für diese App sind absolut unverständlich und setzen sich leider nur aus Wut, Neid und Dummheit zusammen. Die App ist sehr gut durchdacht und soll einem die Chance geben per Reservierung auch seine Hände an die Yeezys zu bekommen. Wie man sich denken kann ist der Verwaltungsaufwand für Adidas sehr hoch, weswegen dies im Moment nur in Berlin funktioniert. Hier schreiben manche auch noch: \"Ich war garantiert der schnellste!\" Die Dummheit von manchen Leuten ist kaum in Worten zu fassen..\n",
      "Warum wollen die bitte wissen wo ich wohn wenn ich nur nach schuhen schauen will? lächerlich\n",
      "👋🏾🤔🤔wieso gewartet wenn ich nicht reservieren kann\n",
      "Danke für die Yeezy Boost 750\n",
      "Ich war pünktlich in der Adidas confirmed app drin um ein paar yeezys zu gewinnen. Ich war registriert und GPS war auch an. Nun ist aber der blaue Button zum anklicken nicht gekommen so wie es eigentlich beschrieben ist in der app. Besser Erklärung wären gut. Nicht mal ein Countdown war obwohl es die bei ios Geräten gab.\n",
      "Leute...auch wenn ihr es ned glauben wollt. Die Confirmed App ist ein Zufallsgenerator, entweder kriegt ihr den Schuh oder halt ned, Alles Glücksache.\n",
      "Die app ist gut gemacht es ist einfach immer noch sehr unwahrscheinlich einen Schuh zu bekommen aber es ist eine gute Möglichkeit ohne campen o.ä. an z.B. yeezys zu kommen\n",
      "Absturz der App, sobald man den Reservierungsort auswählen will. Bitte fixen vor dem 21.11. danke :)\n",
      "App zeigt beim öffnen immer an das ich keine Internetverbindung habe obwohl das nicht stimmt. Bitte aktualisieren!\n",
      "Beim Eingeben der Telefonnummer gibt es immer wieder eine Fehlermeldung, weswegen die Registrierung nicht abgeschlossen werden kann. Bitte asap fixen und nächstes Mal vor'm Release einfach mal Testen ;-)\n",
      "Ich kann mich nicht anmelden, weil die App der Meinung ist meine Telefonnummer sei nicht gültig.\n",
      "Wer nicht in Berlin wohnt braucht die App garnicht erst laden.... Was ein Müll\n",
      "Am liebsten würde ich minus Sterne geben zuerst Schwierigkeiten mit dem registrieren dann nach ner halben stunde klappts dann mit dem registrieren aber die Schuhe werden nicht angezeigt nur ein lade kreis. Fast ne stunde für nichts !\n",
      "Nach dem letzten Update ist das Ding nur noch Schrott. Verbraucht doppelt so viel Speicherplatz wie vorher und öffnet nicht mal mehr richtig.\n",
      "Müll\n",
      "Bei 15 von 16 malen wenn ich die App öffne funktioniert sie nicht\n",
      "Alles klar Reservierung nur in Berlin möglich nicht empfehlenswert..\n",
      "Entfernt diese scheiß Zonen oder macht es wenigstens so das man von überall aus reservieren kann\n",
      "MIT DER APP IST NIX ANZUFANGEN KAPPA IN CAPS\n",
      "Benachrichtigungen nicht erhalten und bei der Anmeldung vollkommen fehlinformiert, bzw. nicht ausreichend über den weiteren Ablauf informiert worden. Bescheiden umgesetzt, die App!\n",
      "Ist eine tolle App für die Leute die nur in Berlin wohnen. Schuhe sind zwar schwer zu coppen weil's so viele benutzen dennoch sehr schön.\n",
      "Die App ist so schlecht. Am Anfang könnte ich die App nicht starten , dann beim Releas Date von den Yeezys stürzte die App jedes mal ab wenn ich auf den Schuh klicken wollte , so konnte ich den Schuh nicht bekommen. HÖR AUF ABZUSTÜRZEN!\n",
      "Lass mal diese app yaaa. Alles fake amkk\n",
      "Die App startet nicht mal, es erscheint ein Error, mein iPhone ist anscheinend gehackt oder gerootet -.- vor Update hat alles super funktioniert!!!\n",
      "Das ist die schlechteste App, die ich je genutzt habe. Ich habe erfolgreich einen Schuh reserviert. Als ich heute Morgen den Voucher öffnen wollte, lautete es \"error, melde dich ab und log dich erneut ein Dein Schuh ist sicher \" so in der Art war die Meldung. Ich habe mich abgemeldet und neu eingeloggt und musste festellen, dass ich keine Reservierung mehr für einen Schuh hatte . Gerne kann ich auch Beweise, von der Meldung zeigen. Vielen Dank Adidas, für NICHTS !\n",
      "Die unübersichtliche App auf einer skurrilen Mischung aus Deutsch und Englisch erkennt meine Handynummer nicht an, so dass ich mich nicht registrieren kann.\n",
      "Jetzt kommen die yeezy und die app funktioniert zurzeit gar nicht. Nicht mal das Öffnen funktioniert richtig. Es bleibt die gesamte Zeit der Ladekreis und das Homemenü öffnet sich nicht. Vor dem Update war die App wenigsgens funktionsfähig.\n",
      "was gibt's hier.. lächerliche 5 städte in ganz europa? und wie viele adidas stores gibt es? come on....\n",
      "Geiles update jungs, jetzt geht garnix mehr. App öffnet sich nicht 👍👏\n",
      "Die App ist so schlecht! Angebliches Update geht aber iwie doch nicht... Größter Schrott!\n",
      "Wenn man sich nicht in einer der verfügbaren Zonen wie Berlin, Amsterdam oder London befindet, kann man den Sneaker nicht reservieren. Da ich unter der Woche oft in ganz Deutschland unterwegs bin und am Wochenende wieder in Berlin, kann ich nun keine Sneaker reservieren. Das ist wirklich sehr ärgerlich.\n",
      "Nur brauchbar, bei Wohnsitz in Berlin. Richtig schlecht gemacht!\n",
      "Ich mein ich verstehe ja die Sicherheitsmaßnahmen aber ernsthaft? Gerootete Handys werden nicht unterstützt? Find ich etwas schwach um ehrlich zu sein, hab nicht unbedingt Lust mein Handy andauernd zu rooten und unrooten nur um mir Schuhe zu reservieren\n",
      "Guuut\n",
      "Was soll die scheiße man ist genau zur angegeben zeit da und drückt und hat keine Chance auf YEEZY\n",
      "Sehr gut diese\n",
      "Nur wenn man in einer Metropole wie Berlin oder London lebt kann man sie nutzen. Leute die in München Stuttgart usw leben können mit dieser app garnichts anfangen\n",
      "Gut\n",
      "Danke Adidas 👏👏Kann die App überhaupt nicht mehr öffnen! Sowas braucht man! Wirklich....Respekt 👎\n",
      "Sehr gute Idee👍 Allerdings noch etwas schwach Frankfurt am Main müsste schon drin sein 😑 Würde mich sehr freuen wenn es auch eine Zohne in oder in der Nähe von Frankfurt aM geben würde Dann gibt's 5 Sterne 😁\n",
      "Zwar keine schlechte Idee, aber sehr schwach, dass man in einer Großtstadt leben muss um etwas zu reservieren... und nichtmal 1.5mio Städte sind dabei ._. Was sollen wir auf dem Land dann noch tun? :D keine Empfehlung für alle, die gehofft hatten ein naher Adidas Store würde reichen, auch wenn man nicht gerade in Berlin, Amsterdam etc wohnt :P\n",
      "Nice app\n",
      "Tol\n",
      "Nice\n",
      "Hab den neuen Bred gewonnen❤ danke adidas confirmed ❤❤❤\n",
      "Sehr schön\n",
      "Hab ein yeezy bekommen über die App hätte ich nie gedacht nice\n",
      "Tolle App!\n",
      "Scheiße darauf\n",
      "Registrierung zwar ab 14 Jahren aber man darf erst ab 16 Jahren an der Reservierung teilnehmen. Ist mir leider zum Verhängnis geworden. Ansonsten funktioniert die App gut.\n",
      "Gute Idee, aber das mit den Zonen ist nicht so optimal wollte mich aus Aachen für Antwerpen anmelden geht aber nicht...\n",
      "Für die Adidas yeezy boost 350 v2 zebra gibt's es insgesamt nur 6 Zonen in denen man sich befinden soll.\n",
      "Eig 0 Sterne was soll ich mir der app die geht nicht mal ?\n",
      "Nur Berlin als Stadt verfügbar, als wäre Hamburg keine Weltstadt. Lächerlich\n",
      "Das mit den Zonen ist richtig scheiße! Ich wohne in Schleswig Holstein, aber wäre am Samstag in Berlin, kann aber den Yeezy nicht reservieren, weil man das schon morgen machen müsste... Warum nicht Hamburg als Zone?!\n",
      "App lädt nich\n",
      "Krass\n",
      "2 mal gemacht 2 mal gewonnen\n",
      "Ich finde diese app klasse\n",
      "10/10 would yeezy again\n",
      "Super\n",
      "App lädt kaum bis gar nicht. Reservierung hatte nach 25 versuchen geklappt. Direkt nach Start sofort drauf los getippt aber 4 Durchläufe gebraucht um zu checken ob die Größe vorhanden ist? Wozu reserviert man dann wenn das erst nachgesehen werden muss? In der zeit wo bei mir die suchläufe gemacht wurden waren alle schon vergriffen. Völlig sinnfrei diese app und funktioniert dazu noch unglaublich miserabel. 1 Stern ist noch zu viel\n",
      "Easy Cop\n",
      "Nach mehreren Anläufen endlich ein Paar Yeezys abgeräumt!\n",
      "Geht nicht nach 1/100 sekunde ausverkauft einfach schlecht und das war meine einzige chance auf Yeezys einfach lächerlich.\n",
      "Geht nicht auf gerooteten Geräten!\n",
      "Good job\n",
      "Hatte den yeezy boost 350 V2 zebra confirmed lief alles super 😏\n",
      "verstehe die zonen nicht. wenn man es wirklich schafft sich einen yeezy in der nächstgrößten stadt zu reservieren, wird man da wohl auch hinfahren-ich mein es ist ein yeezy... finde das konzept ganz gut, nur eben die zonen nerven, weil man erst wieder in den kleinerern städten die schuhe nicht bekommt. denkt mal drüber nach das zu ändern\n",
      "Als ob Berlin die einzige Zone in Deutschand ist, in der man seine Sneaker abholen könnte... lächerlich\n",
      "Die App lässt sich seit den letzten beiden Updates nicht mehr öffnen…So schnell wie möglich fixen, aber ansonsten sehr gutes Konzept. Wenn's wieder funktioniert dann 5*\n",
      "Zu wenig Zonen richtig schlecht\n",
      "Eine Zone im Adidas Heimatland Deutschland? Das ist nicht euer Ernst. Es müssen weitere Städte folgen.\n",
      "Nur eine Zone in ganz Deutschland?!?!?\n"
     ]
    }
   ],
   "source": [
    "#in the german data, there is some english but very few, so that's not a concern for luminoso.\n",
    "for x in loc_data['de']:\n",
    "    print(x['content'])"
   ]
  },
  {
   "cell_type": "code",
   "execution_count": 13,
   "metadata": {},
   "outputs": [
    {
     "name": "stdout",
     "output_type": "stream",
     "text": [
      "Wanted it in 36 2/3. Got it in 37 1/3. Is it possible to change ? :-(\n",
      "Meilleure application ever je suis trop happy top cool\n",
      "Thanks!!!!!!\n",
      "Great app, great thinking. Weird that i missed out on one release though. I tapped the microsecond the button was available and missed it. But thats the game i guess\n",
      "Geweldig;)\n",
      "👍🏼👍🏼👍🏼\n",
      "Wicked!\n",
      "Great App!!\n",
      "Thanks to adidas and the Confirmed app now we can have a chance to get Yeezy's without staying for hours in the cold! And I most say this app already worked out very fine for me.\n",
      "App excellente et fiable\n",
      "Il faut habiter dans une zone precise pour pouvoir participer \n",
      "C'est domage si on pouvait participer partout puis si je gagne je le déplace\n",
      ":-)\n"
     ]
    }
   ],
   "source": [
    "# The belgian data is a more even mix between English, French ad Dutch languages. \n",
    "# We can thus create a project for each language using a pre-defined language mapping, by upload all to one porect and copying twice, then \n",
    "# removing the other languages using another script we have.\n",
    "for x in loc_data['be']:\n",
    "    print(x['content'])"
   ]
  },
  {
   "cell_type": "code",
   "execution_count": 14,
   "metadata": {
    "scrolled": true
   },
   "outputs": [
    {
     "name": "stdout",
     "output_type": "stream",
     "text": [
      "Nothing. Just thank you.\n",
      "FINALLY THANK YOU ADIDAS\n",
      "Follow my ig ; moxeb 😜😜😜😜\n",
      "The entering of my phone number won't work. The last digits should be only 4, but are 5. Can anyone help??\n",
      "Now make this available to cities like Calgary and Edmonton, or change our outlets to originals locations at very least. Canada deserves more love!\n",
      "Finally released in Canada. Thank you adidas!\n",
      "Not of any use if you're not bringing any shoes in our area. Make the shoes available for shipping and we'll be talking.\n",
      "Always errors when asking for number\n",
      "Ok i have to say thank you and finally making this but the registration always has errors, i put everything is and press send sms there are errors and the last 4 digits requires 5.\n",
      "Error when asking for phone number. Please fix the app.\n",
      "Stuck on the loading screen every time I open the app - not even useable whatsoever.\n",
      "What a horrible app. Registration won't work because they want a 11 digit phone number instead of 10. Customer service doesn't even respond.\n",
      "Only sneaker to reserve was the NMD CS2 PK. No NMD R1 PK Tokyo Triple Black? BS.\n",
      "When I open the app it says “this app doesn’t support rooted/jail broken phones” but mine isnt!! Someone help me!!\n",
      "Keep saying error occurred at the stage where we enter phone number.\n",
      "Can't even register. I've tried atleast 5-6 times on different day and constantly get the error message when trying to enter a phone number....\n",
      "This app does not work. Just keeps giving me the spinning “thinking” symbol.\n",
      "Stuck at checking sizes checking availability screen for way too long\n",
      "Please increase the Toronto Zone coverage to York Region and Vaughan. It is very easy to get downtown and pickup the shoes from here.\n",
      "I dont know whats wrong. I’ve been trying to sign up, and when I put my cellphone number, it always says enter valid number.. I’m 101% sure that I’m entering my cellphone number correctly.\n",
      "Doesn’t recognize 905 as a valid cell phone number therefore can’t register to use the app\n",
      "finally in Canada, but only Toronto....\n",
      "I understand that the reservation area is so small so the person can come pick it up. but I’ve been waiting so long for my city to be added. I’m literally 20 minutes away from being in the radius but I can’t drive. It’s so annoying and upsetting that I can’t try. Like if you have a full day to pick up your shoes then it shouldn’t be a problem even if you’re like two hours away. I’m 1 hour from the pick up place and I’m not even able to try and cop.\n",
      "Reservation area is too small. Wants an 11 digit phone number that doesn’t include the country code: doesn’t exist. Adidas fails again. Adidas does not care about Canada.\n",
      "Size 13 🤘🏽🤘🏽\n",
      "Plz\n",
      "good ivgot it\n",
      "I got my pair reserved and went to confirm it literally changed to 4:01 and the sign up was closed. Very disappointed with adidas, you guys need to get on the bot situation.\n",
      "Good app, confusing to understand what you have to do to reserve a pair of shoes. Close to impossible to get a pair :/\n",
      "Waited until the very moment on the last 2 Yeezy drops, tapped as fast as I can just to be stuck on “checking sizes availability” for a good 45 seconds and tell me reservation is closed! What I don’t get is how others managed to copped multiple pairs, they can’t tap 4 devices all at once!\n",
      "A reservation and a window to pick up shoes are useless if you have to stand in line for almost 3 hours to pick up. If that was going to happen there should at least be a warning so that I could pay for enough parking and plan the rest of my day. Was late to my own birthday.\n",
      "Doesn’t accept my pone number - 905\n",
      "There’s an error when there’s an extra digit required when it asks for your phone number and then tells you your number is invalid. You can’t complete the registration process with this. I’ve deleted and uninstalled thinking it was a temporary glitch, but even after your update, the issue is still there. Ridiculous.\n",
      "😘\n",
      "Got em\n",
      "Amazing vibe amazing staff!! 10 stars out of 5!\n",
      "Awesome app so much fun!! Countdown then boom got em!\n",
      "Nice shoes\n",
      "adidas confirmed is the best app to get your shoes from for retail\n",
      "Every time I put my phone number it keeps saying error please enter a valid phone number\n",
      "I can’t put my phone number because it’s asking me to put 5 digits but it’s only 4\n",
      "Looks like a great app but I can’t log in for whatever reason because it says there is an error with my phone number\n",
      "Before this app, I had to either pay resale or not get the shoes. With this app, I secured myself two pairs of yeezys for retail. Absolutely love it\n",
      "Bug lors de l’affichage de l’image de confirmation merci d’avoir gaspiller mon temps\n",
      "Should have the option of selecting English or French for the alerts, not both. That's just dumb.\n",
      "After all these updates, they still won’t allow numbers with 416 codes which is pretty stupid, I even downloaded a texting app to get a new number that starts with 647 and it doesn’t allow still.... it’s been so long yet nothing has been fixed\n",
      "This app is horrible. It can’t even do what it claims to do. Even if you turn on all notifications, it doesn’t notify you of anything. You literally have seconds to confirm your reservation and they do not notify. How about this, come out with enough products to sell to people!\n",
      "Waiting for the day where I actually win something despite trying in the first few seconds.\n"
     ]
    }
   ],
   "source": [
    "#for lccale = canada, the lanuguage is mainly english\n",
    "for x in loc_data['ca']:\n",
    "    print(x['content'])"
   ]
  },
  {
   "cell_type": "code",
   "execution_count": 15,
   "metadata": {},
   "outputs": [
    {
     "name": "stdout",
     "output_type": "stream",
     "text": [
      "Den accepterer ikke mit telefonnummer\n",
      "Copped 😍\n",
      "Fungere fint når man er på WiFi.  Er overskuelig og er en hjælp nå man skal se hvad der kommer af nyt.\n",
      "Jeg er smuk fordi jeg fik dem\n",
      "Den har swag\n",
      "Tillader ikke rootede telefoner\n",
      "Easy peacy\n",
      "Helt fin\n",
      "YEEZY!!!\n",
      "God app\n",
      "Virker godt\n",
      "Super god app\n",
      "Kæft der er meget glad\n",
      "Fedt! Coppede zebras i dag!!!\n",
      "\"Vælg det rigtige billede ...\"  Så skal man vælge et billede ud af 9 der passer på beskrivelsen - men trods min Universitetsuddannelse og glæde for læsning, er jeg prisgivet når folk endten gætter med et hurtigt tryk, eller læser endnu hurtigere ...  En Fair for alle løsning ville være at foretrække (dette gælder også jeres online releases)\n",
      "Den gider ikke at tilmelde mig...\n"
     ]
    }
   ],
   "source": [
    "#for lccale = denmark, the lanuguage is mainly danish but this is not suppored in Luminoso. \n",
    "for x in loc_data['da']:\n",
    "    print(x['content'])"
   ]
  },
  {
   "cell_type": "markdown",
   "metadata": {},
   "source": [
    "## Create a locale-to-languages mapping\n",
    "#### This will be empty if language not supported by luminoso, by may also have several values if there needs to be separation into several projects (as for Belgium)"
   ]
  },
  {
   "cell_type": "code",
   "execution_count": 16,
   "metadata": {},
   "outputs": [],
   "source": [
    "# to be expanded if more locales are included in original input file\n",
    "locale_languages_mapping = {'de': ['de'], 'be': ['fr', 'nl', 'en'], 'da': [], 'ca': ['en']}"
   ]
  },
  {
   "cell_type": "code",
   "execution_count": 17,
   "metadata": {},
   "outputs": [
    {
     "name": "stdout",
     "output_type": "stream",
     "text": [
      "de ['de']\n",
      "be ['fr', 'nl', 'en']\n",
      "da []\n",
      "ca ['en']\n"
     ]
    }
   ],
   "source": [
    "for loc in locale_counts:\n",
    "    print(loc, locale_languages_mapping[loc])"
   ]
  },
  {
   "cell_type": "code",
   "execution_count": 18,
   "metadata": {},
   "outputs": [],
   "source": [
    "def format_for_upload (data):\n",
    "     return [{'text': r['content'],\n",
    "              'title' : r['title'], \n",
    "              'app_id':r['app_id'], \n",
    "              'app_version':r['app_version'], \n",
    "              'date' : r['date'], \n",
    "              'rating' : r['rating'], \n",
    "              'store' : r['store'] \n",
    "                } for r in data]"
   ]
  },
  {
   "cell_type": "code",
   "execution_count": 19,
   "metadata": {},
   "outputs": [],
   "source": [
    "PROJECTS_MAIN_TITLE = 'AppFollow TEST'\n",
    "LANG_THRESHOLD = 0.6"
   ]
  },
  {
   "cell_type": "code",
   "execution_count": 20,
   "metadata": {},
   "outputs": [
    {
     "name": "stdout",
     "output_type": "stream",
     "text": [
      "['de']\n",
      "AppFollow TEST -location:de -language:de    with 124 docs\n",
      "['fr', 'nl', 'en']\n",
      "11 documents not identified as \"fr\" removed from project.\n",
      "AppFollow TEST -location:be -language:fr    with 1 docs\n",
      "12 documents not identified as \"nl\" removed from project.\n",
      "AppFollow TEST -location:be -language:nl    with 0 docs\n",
      "7 documents not identified as \"en\" removed from project.\n",
      "AppFollow TEST -location:be -language:en    with 5 docs\n",
      "[]\n",
      "The dataset for locale: da will not be uploaded as no language is defined\n",
      "['en']\n",
      "AppFollow TEST -location:ca -language:en    with 48 docs\n"
     ]
    }
   ],
   "source": [
    "project_list = []\n",
    "\n",
    "for (loc, data) in loc_data.items():\n",
    "    langs = locale_languages_mapping[loc]\n",
    "    print(langs)\n",
    "    if langs == []:\n",
    "        print('The dataset for locale:', loc, 'will not be uploaded as no language is defined')\n",
    "    else:\n",
    "        for lingua in langs:\n",
    "            proj = {}\n",
    "            unused_docs = []\n",
    "            proj['language'] = lingua\n",
    "            proj['location'] = loc\n",
    "            proj['name'] = PROJECTS_MAIN_TITLE + ' -location:' + loc + ' -language:' + lingua\n",
    "            if len(langs) > 1:\n",
    "                documents, unused_docs = remove_foreign_languages(format_for_upload(data), lingua, LANG_THRESHOLD)\n",
    "            else:\n",
    "                documents = format_for_upload(data)\n",
    "            proj['docs'] = documents\n",
    "            proj['unused_docs'] = unused_docs\n",
    "            print(proj['name'], '   with ' + str(len(proj['docs'])), 'docs')\n",
    "            project_list.append(proj)"
   ]
  },
  {
   "cell_type": "code",
   "execution_count": 21,
   "metadata": {},
   "outputs": [
    {
     "data": {
      "text/plain": [
       "5"
      ]
     },
     "execution_count": 21,
     "metadata": {},
     "output_type": "execute_result"
    }
   ],
   "source": [
    "len(project_list)"
   ]
  },
  {
   "cell_type": "code",
   "execution_count": 22,
   "metadata": {},
   "outputs": [
    {
     "name": "stdout",
     "output_type": "stream",
     "text": [
      "AppFollow TEST -location:de -language:de docs total: 124 unused-docs total: 0\n",
      "AppFollow TEST -location:be -language:fr docs total: 1 unused-docs total: 11\n",
      "AppFollow TEST -location:be -language:nl docs total: 0 unused-docs total: 12\n",
      "AppFollow TEST -location:be -language:en docs total: 5 unused-docs total: 7\n",
      "AppFollow TEST -location:ca -language:en docs total: 48 unused-docs total: 0\n"
     ]
    }
   ],
   "source": [
    "for x in project_list:\n",
    "    print(x['name'], 'docs total:', len(x['docs']), 'unused-docs total:', len(x['unused_docs']))"
   ]
  },
  {
   "cell_type": "markdown",
   "metadata": {},
   "source": [
    "## Save data to Json files \n",
    "### In case needed later -- it will be easy to check data or re-upload"
   ]
  },
  {
   "cell_type": "code",
   "execution_count": 23,
   "metadata": {},
   "outputs": [
    {
     "name": "stdout",
     "output_type": "stream",
     "text": [
      "JSON data saved to file:  AppFollow TEST -location:de -language:de.json\n",
      "JSON data saved to file:  AppFollow TEST -location:be -language:fr.json\n",
      "JSON data saved to file:  AppFollow TEST -location:be -language:nl.json\n",
      "JSON data saved to file:  AppFollow TEST -location:be -language:en.json\n",
      "JSON data saved to file:  AppFollow TEST -location:ca -language:en.json\n"
     ]
    }
   ],
   "source": [
    "for p in project_list:\n",
    "    save_as_json_file(p, p['name'])"
   ]
  },
  {
   "cell_type": "markdown",
   "metadata": {},
   "source": [
    "## Uploading data to new project"
   ]
  },
  {
   "cell_type": "code",
   "execution_count": 24,
   "metadata": {},
   "outputs": [],
   "source": [
    "from luminoso_api import LuminosoClient"
   ]
  },
  {
   "cell_type": "code",
   "execution_count": 25,
   "metadata": {},
   "outputs": [],
   "source": [
    "account_id = 'https://eu-analytics.luminoso.com/api/v4/projects/u46p858s/'  #Adidas Training\n",
    "uname = 'bodier@luminoso.com'"
   ]
  },
  {
   "cell_type": "code",
   "execution_count": 26,
   "metadata": {},
   "outputs": [
    {
     "name": "stdout",
     "output_type": "stream",
     "text": [
      "Password for bodier@luminoso.com: ········\n"
     ]
    }
   ],
   "source": [
    "#connect\n",
    "connection = LuminosoClient.connect(account_id, username = uname)"
   ]
  },
  {
   "cell_type": "code",
   "execution_count": 35,
   "metadata": {},
   "outputs": [
    {
     "name": "stdout",
     "output_type": "stream",
     "text": [
      "Uploading of docs complete for project: AppFollow TEST -location:de -language:de\n",
      "Project created successfully\n",
      "Uploading of docs complete for project: AppFollow TEST -location:be -language:fr\n",
      "Project created successfully\n",
      "Uploading of docs complete for project: AppFollow TEST -location:be -language:en\n",
      "Project created successfully\n",
      "Uploading of docs complete for project: AppFollow TEST -location:ca -language:en\n",
      "Project created successfully\n",
      "All done\n"
     ]
    }
   ],
   "source": [
    "for proj in project_list:\n",
    "    if len(proj['docs']) != 0:    \n",
    "        # Create a new project\n",
    "        new_project = connection.post(name = proj['name'])\n",
    "        new_project_id = new_project['project_id']\n",
    "\n",
    "        new_project_path = connection.change_path(new_project_id)\n",
    "        new_project_path.upload('docs', proj['docs'])\n",
    "\n",
    "        print('Uploading of docs complete for project:', proj['name'])\n",
    "\n",
    "        job_id = new_project_path.post('docs/recalculate', language = proj['language'])\n",
    "        end_job = new_project_path.wait_for(job_id)\n",
    "        if end_job['success'] == True:\n",
    "            print('Project created successfully')\n",
    "        else:\n",
    "            print('Warning: recalculation failed')\n",
    "\n",
    "print('All done')"
   ]
  },
  {
   "cell_type": "code",
   "execution_count": null,
   "metadata": {},
   "outputs": [],
   "source": []
  }
 ],
 "metadata": {
  "kernelspec": {
   "display_name": "Python 3",
   "language": "python",
   "name": "python3"
  },
  "language_info": {
   "codemirror_mode": {
    "name": "ipython",
    "version": 3
   },
   "file_extension": ".py",
   "mimetype": "text/x-python",
   "name": "python",
   "nbconvert_exporter": "python",
   "pygments_lexer": "ipython3",
   "version": "3.6.4"
  }
 },
 "nbformat": 4,
 "nbformat_minor": 2
}
