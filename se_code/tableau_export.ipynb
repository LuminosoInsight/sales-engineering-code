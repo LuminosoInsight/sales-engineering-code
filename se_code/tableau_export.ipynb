{
 "cells": [
  {
   "cell_type": "code",
   "execution_count": 65,
   "metadata": {},
   "outputs": [],
   "source": [
    "from luminoso_api import V5LuminosoClient as LuminosoClient\n",
    "from pack64 import unpack64\n",
    "\n",
    "import json\n",
    "import numpy as np"
   ]
  },
  {
   "cell_type": "code",
   "execution_count": 66,
   "metadata": {},
   "outputs": [],
   "source": [
    "def get_all_docs(client):\n",
    "    docs = []\n",
    "    while True:\n",
    "        new_docs = client.get('docs', limit=25000, offset=len(docs))\n",
    "        if new_docs['result']:\n",
    "            docs.extend(new_docs['result'])\n",
    "        else:\n",
    "            return docs"
   ]
  },
  {
   "cell_type": "code",
   "execution_count": 67,
   "metadata": {},
   "outputs": [],
   "source": [
    "client = LuminosoClient.connect('projects/prrq724s')\n",
    "docs = get_all_docs(client)"
   ]
  },
  {
   "cell_type": "code",
   "execution_count": 68,
   "metadata": {},
   "outputs": [],
   "source": [
    "topics = client.get('concepts/saved', include_science=True)\n",
    "topics = sorted([{'name': t['name'], 'vector': [float(v) for v in unpack64(t['vector'])]} for t in topics], key=lambda t:t['name'].lower())"
   ]
  },
  {
   "cell_type": "code",
   "execution_count": 69,
   "metadata": {},
   "outputs": [],
   "source": [
    "table = []\n",
    "terms = {}\n",
    "for d in docs:\n",
    "    row = {}\n",
    "    vector = [float(v) for v in unpack64(d['vector'])]\n",
    "    row['text'] = d['text']\n",
    "    row['title'] = d['title']\n",
    "    doc_terms = []\n",
    "    for t in d['terms']:\n",
    "        text = d['text'][t['start']:t['end']]\n",
    "        if t['term_id'] not in terms:\n",
    "            concept = client.get('concepts', concept_selector={\"type\": \"specified\",\n",
    "                                                           \"concepts\": [{\"texts\":[text]}]})\n",
    "            terms[t['term_id']] = concept['result'][0]['name']\n",
    "            doc_terms.append(concept['result'][0]['name'])\n",
    "        else:\n",
    "            doc_terms.append(terms[t['term_id']])\n",
    "    row['terms'] = doc_terms\n",
    "    metadata = sorted(d['metadata'], key=lambda m: m['name'])\n",
    "    for i, m in enumerate(metadata):\n",
    "        row['subset %d' % i] = m\n",
    "    max_topic = None\n",
    "    max_score = 0\n",
    "    doc_topics = []\n",
    "    for i, t in enumerate(topics):\n",
    "        score = np.dot(t['vector'], vector)\n",
    "        if score > max_score:\n",
    "            max_score = score\n",
    "            max_topic = t['name']\n",
    "        doc_topics.append({'name': t['name'],\n",
    "                               'score': score})\n",
    "    row['topic'] = max_topic\n",
    "    row['topic score'] = max_score\n",
    "    doc_topics = sorted(doc_topics, key=lambda t:t['score'], reverse=True)\n",
    "    for i, t in enumerate(doc_topics):\n",
    "        row['topic %d' % i] = t\n",
    "    table.append(row)"
   ]
  },
  {
   "cell_type": "code",
   "execution_count": 70,
   "metadata": {},
   "outputs": [],
   "source": [
    "json.dump(table, open('boa_tableau_json_test.json', 'w'))"
   ]
  },
  {
   "cell_type": "code",
   "execution_count": null,
   "metadata": {},
   "outputs": [],
   "source": []
  },
  {
   "cell_type": "code",
   "execution_count": null,
   "metadata": {},
   "outputs": [],
   "source": []
  }
 ],
 "metadata": {
  "kernelspec": {
   "display_name": "Python 3",
   "language": "python",
   "name": "python3"
  },
  "language_info": {
   "codemirror_mode": {
    "name": "ipython",
    "version": 3
   },
   "file_extension": ".py",
   "mimetype": "text/x-python",
   "name": "python",
   "nbconvert_exporter": "python",
   "pygments_lexer": "ipython3",
   "version": "3.6.4"
  }
 },
 "nbformat": 4,
 "nbformat_minor": 2
}
