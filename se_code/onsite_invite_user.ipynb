{
 "cells": [
  {
   "cell_type": "markdown",
   "metadata": {},
   "source": [
    "## Onsite Invite Users\n",
    "\n",
    "This notebokok will read a csv file with the following two columns\n",
    "email,account_id\n",
    "\n",
    "It will send an invite to each email using the account_id which the email address will be associated.  If the email address is already part of that account_id it will be ignored.\n",
    "\n",
    "If you need to see what account_ids are available, use the all_accounts cell to see the complete list.\n",
    "\n",
    "#### Setup\n",
    "Change the token listed in the LuminosoClient.connect call. The token can be found using the Daylight UI.\n",
    "\n",
    "If you would like to use the older client connect which uses account_id and project_id, there are commented lines which can be uncommented and used instead of the token authentication."
   ]
  },
  {
   "cell_type": "code",
   "execution_count": 141,
   "metadata": {},
   "outputs": [],
   "source": [
    "from luminoso_api import LuminosoClient\n",
    "import csv\n"
   ]
  },
  {
   "cell_type": "code",
   "execution_count": 142,
   "metadata": {},
   "outputs": [],
   "source": [
    "#account_id = 'c86f546w' # account id that holds the project\n",
    "#project_id = 'prdcj9gb' # project with all the data\n",
    "host_url = 'http://192.168.10.119/api/v4/'\n",
    "input_data = './onsite_add_users.csv'"
   ]
  },
  {
   "cell_type": "code",
   "execution_count": 143,
   "metadata": {},
   "outputs": [],
   "source": [
    "with open(input_data, encoding='utf-8-sig') as f:\n",
    "    reader = csv.DictReader(f)\n",
    "    table = [row for row in reader]"
   ]
  },
  {
   "cell_type": "code",
   "execution_count": 144,
   "metadata": {},
   "outputs": [
    {
     "data": {
      "text/plain": [
       "[OrderedDict([('email', 'avwood33@cox.net'), ('account_id', '34pwxv2s')]),\n",
       " OrderedDict([('email', '33shorecliff@cox.net'), ('account_id', '34pwxv2s')])]"
      ]
     },
     "execution_count": 144,
     "metadata": {},
     "output_type": "execute_result"
    }
   ],
   "source": [
    "table"
   ]
  },
  {
   "cell_type": "code",
   "execution_count": 145,
   "metadata": {},
   "outputs": [
    {
     "data": {
      "text/plain": [
       "<LuminosoClient for http://192.168.10.119/api/v4/accounts/>"
      ]
     },
     "execution_count": 145,
     "metadata": {},
     "output_type": "execute_result"
    }
   ],
   "source": [
    "#client = LuminosoClient.connect(host_url+'accounts/{}'.format(account_id)) \n",
    "#client = LuminosoClient.connect(host_url+'accounts/',username='wood')\n",
    "client = LuminosoClient.connect(host_url+'accounts/',token='HQnUUGNeoib1OEa-rSvkyYEnP1KG5oFP')\n",
    "\n",
    "client"
   ]
  },
  {
   "cell_type": "code",
   "execution_count": 146,
   "metadata": {},
   "outputs": [
    {
     "data": {
      "text/plain": [
       "{'default_account': None,\n",
       " 'accounts': [{'account_id': '34pwxv2s',\n",
       "   'permissions': ['create', 'write', 'read', 'account_manage'],\n",
       "   'email': 'avwood33@cox.net',\n",
       "   'account_name': 'woodacct'},\n",
       "  {'account_id': 'admin',\n",
       "   'permissions': ['create', 'write', 'read', 'account_manage'],\n",
       "   'email': 'wood.harter@gmail.com',\n",
       "   'account_name': 'wood'},\n",
       "  {'account_id': 'public',\n",
       "   'permissions': ['create', 'write', 'read', 'account_manage'],\n",
       "   'email': 'wood.harter@gmail.com',\n",
       "   'account_name': 'wood2'},\n",
       "  {'account_id': 'trash',\n",
       "   'permissions': ['create', 'write', 'read', 'account_manage'],\n",
       "   'email': None,\n",
       "   'account_name': 'trash'},\n",
       "  {'account_id': 'dsh26xgw',\n",
       "   'permissions': ['create', 'write', 'read', 'account_manage'],\n",
       "   'email': None,\n",
       "   'account_name': 'avwood33@cox.net'}]}"
      ]
     },
     "execution_count": 146,
     "metadata": {},
     "output_type": "execute_result"
    }
   ],
   "source": [
    "all_accounts = client.get()\n",
    "all_accounts"
   ]
  },
  {
   "cell_type": "code",
   "execution_count": 148,
   "metadata": {},
   "outputs": [
    {
     "name": "stdout",
     "output_type": "stream",
     "text": [
      "user avwood33@cox.net exists - IGNORED\n",
      "email=33shorecliff@cox.net  account=34pwxv2s - INVITED\n"
     ]
    }
   ],
   "source": [
    "account_permissions = [\"create\",\"read\",\"write\"]\n",
    "for acct in table:\n",
    "    users_on_acct = client.get('/{}/users/'.format(acct['account_id']))\n",
    "    if (acct['email'] in users_on_acct['members'].keys()):\n",
    "        print('user {} exists - IGNORED'.format(acct['email']))\n",
    "    else:\n",
    "        client.post('/{}/invite/'.format(acct['account_id']),\n",
    "                email=acct['email'],\n",
    "                permissions=account_permissions)\n",
    "        print(\"email=\"+acct['email']+\"  account=\"+acct['account_id']+\" - INVITED\")\n"
   ]
  },
  {
   "cell_type": "code",
   "execution_count": null,
   "metadata": {},
   "outputs": [],
   "source": []
  }
 ],
 "metadata": {
  "kernelspec": {
   "display_name": "Python 3",
   "language": "python",
   "name": "python3"
  },
  "language_info": {
   "codemirror_mode": {
    "name": "ipython",
    "version": 3
   },
   "file_extension": ".py",
   "mimetype": "text/x-python",
   "name": "python",
   "nbconvert_exporter": "python",
   "pygments_lexer": "ipython3",
   "version": "3.6.5"
  }
 },
 "nbformat": 4,
 "nbformat_minor": 2
}
