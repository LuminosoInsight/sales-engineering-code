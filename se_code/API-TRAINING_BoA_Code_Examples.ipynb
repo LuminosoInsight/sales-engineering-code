{
 "cells": [
  {
   "cell_type": "markdown",
   "metadata": {},
   "source": [
    "# API Quickstart for Luminoso Daylight (v4)"
   ]
  },
  {
   "cell_type": "markdown",
   "metadata": {},
   "source": [
    "# Examples on BoA app-Reviews dataset"
   ]
  },
  {
   "cell_type": "markdown",
   "metadata": {},
   "source": [
    "### Author: Boaz Odier - bodier@luminoso.com"
   ]
  },
  {
   "cell_type": "markdown",
   "metadata": {},
   "source": [
    "## General helper functions"
   ]
  },
  {
   "cell_type": "code",
   "execution_count": 1,
   "metadata": {},
   "outputs": [],
   "source": [
    "import csv\n",
    "\n",
    "def save_to_CSV(filename, data):\n",
    "    if len(filename) < 4 or filename[-4:] != '.csv':\n",
    "        filename += '.csv'\n",
    "    with open(filename, 'w', newline='') as file:\n",
    "        writer = csv.DictWriter(file, fieldnames=data[0].keys())\n",
    "        writer.writeheader()\n",
    "        writer.writerows(data)\n",
    "    print('Data saved to file:  ', filename)\n",
    "\n",
    "def load_from_CSV(filename):\n",
    "    with open(filename, 'r') as file:\n",
    "        data = [row for row in csv.DictReader(file)]\n",
    "    print('Data loaded from file:  ', filename)\n",
    "    return data"
   ]
  },
  {
   "cell_type": "code",
   "execution_count": 2,
   "metadata": {},
   "outputs": [],
   "source": [
    "import datetime\n",
    "\n",
    "def get_iso_date(d):\n",
    "    return datetime.datetime.fromtimestamp(d).strftime('%Y-%m-%d')"
   ]
  },
  {
   "cell_type": "code",
   "execution_count": 3,
   "metadata": {},
   "outputs": [],
   "source": [
    "def substitute_keys_in_dict(data_dict, new_keys_dict):\n",
    "    '''\n",
    "    Substitute the keys used in the data_dict, to the values returned by the new_keys_dict\n",
    "    '''\n",
    "    result = {}\n",
    "    for k, v in data_dict.items():\n",
    "        result[new_keys_dict[k]] = v\n",
    "    return result"
   ]
  },
  {
   "cell_type": "code",
   "execution_count": 4,
   "metadata": {},
   "outputs": [],
   "source": [
    "import dateutil.parser \n",
    "import datetime\n",
    "import time\n",
    "\n",
    "#Transform a date in string format into Unix Epoch date\n",
    "\n",
    "def extract_date(string, dayfirst = False):\n",
    "    #tries to find a date in a given string, and returns it as a float (number of seconds)\n",
    "    #if no date found, returns None\n",
    "    #default setting is to expect US format (month/day/year)\n",
    "    try:\n",
    "        d = dateutil.parser.parse(string, dayfirst = dayfirst) \n",
    "    except:\n",
    "        return None\n",
    "    else:\n",
    "        return time.mktime(d.timetuple())\n",
    "\n",
    "    \n",
    "DATE_FORMAT_EU= \"%d/%m/%Y\"  # %Y = Year as 4 digits, %y is 2 digits\n",
    "DATE_FORMAT_dby = \"%d-%b-%y\"  # %b = Month as locale’s abbreviated name, eg: Sep\n",
    "DATE_FORMAT_EU_time = '%d/%m/%Y %H:%M'\n",
    "DATE_FORMAT_ISO = '%Y-%m-%d'\n",
    "    \n",
    "def extract_formatted_date(date, date_format):\n",
    "    #To be used when a specific date format is expected\n",
    "    #use standard strptime function to get datetime object from a string\n",
    "    try:\n",
    "        d = datetime.datetime.strptime(date, date_format) \n",
    "    except:\n",
    "        return None\n",
    "    else:\n",
    "        return time.mktime(d.timetuple())"
   ]
  },
  {
   "cell_type": "markdown",
   "metadata": {},
   "source": [
    "## Helper functions specific to Luminoso usage"
   ]
  },
  {
   "cell_type": "code",
   "execution_count": 5,
   "metadata": {},
   "outputs": [],
   "source": [
    "#may want to refactor this so output of 2nd value is a dict with key = subsettype, value = list of possible values\n",
    "#then the get_subset_elements function can be subsumed.  \n",
    "def get_subsets_info(connection):\n",
    "    '''\n",
    "    Given a Luminoso project connection, this will simply give the 'subsets/stats' API endpoint info,\n",
    "    but also as a second value a list of the Subset Types. \n",
    "    '''\n",
    "    substats = connection.get('subsets/stats')\n",
    "    type_list = []\n",
    "    for s in substats:\n",
    "        if s['subset'] == '__all__':\n",
    "            t = '__all__'\n",
    "            s['subset_type'] = t\n",
    "            s['subset_element'] = ''\n",
    "        else:\n",
    "            (t, e) = s['subset'].split(': ')\n",
    "            s['subset_type'] = t\n",
    "            s['subset_element'] = e\n",
    "        \n",
    "        if t not in type_list: \n",
    "            type_list.append(t)\n",
    "    \n",
    "    return substats, type_list\n",
    "\n",
    "def get_subset_elements(subsets_info, subset_type):\n",
    "    results = []\n",
    "    for s in subsets_info:\n",
    "        if s['subset_type'] == subset_type:\n",
    "            results.append(s['subset'])\n",
    "    return results"
   ]
  },
  {
   "cell_type": "code",
   "execution_count": 6,
   "metadata": {},
   "outputs": [],
   "source": [
    "def get_all_docs(client, doc_fields=None):\n",
    "    '''\n",
    "    Get all docs from a Luminoso connection to a project (client)\n",
    "    '''\n",
    "    docs = []\n",
    "    while True:\n",
    "        if doc_fields:\n",
    "            newdocs = client.get('docs', limit=25000, offset=len(docs), doc_fields=doc_fields)\n",
    "        else:\n",
    "            newdocs = client.get('docs', limit=25000, offset=len(docs))\n",
    "        if newdocs:\n",
    "            docs.extend(newdocs)\n",
    "        else:\n",
    "            return docs"
   ]
  },
  {
   "cell_type": "code",
   "execution_count": 7,
   "metadata": {},
   "outputs": [],
   "source": [
    "def subset_array_to_dict(subsets_array):\n",
    "    '''\n",
    "    Given an array of subset values (as per Luminoso output from docs download),\n",
    "    transforms it into a dictionary format\n",
    "    '''\n",
    "    obj={}\n",
    "    for s in subsets_array:\n",
    "        if  s != '__all__':\n",
    "            (sub, val) = s.split(': ')\n",
    "            obj[sub] = val\n",
    "    return obj"
   ]
  },
  {
   "cell_type": "code",
   "execution_count": 8,
   "metadata": {},
   "outputs": [],
   "source": [
    "def build_ID_TOPICNAME_dict(topicsdata):\n",
    "    '''\n",
    "    Given a Luminoso list of topics, as per API call to get('topics'), \n",
    "    build a topic ID to NAME mapping table (as a dict)\n",
    "    '''\n",
    "    result = {}\n",
    "    for t in topicsdata:\n",
    "        result[t['_id']] = t['name']\n",
    "    return result"
   ]
  },
  {
   "cell_type": "code",
   "execution_count": 9,
   "metadata": {},
   "outputs": [],
   "source": [
    "def create_or_update_topics(connection, new_topics):\n",
    "    '''\n",
    "    This function will create the given new topics into the project\n",
    "    If a topic already exists (by name), then it will be overwritten with the new terms given\n",
    "    Returns a dict mapping table of topicIDs to TopicNames\n",
    "    '''\n",
    "    project_info = connection.get()\n",
    "    existing_topics = connection.get('topics')\n",
    "    \n",
    "    for n in new_topics:\n",
    "        newName = n['Topic Name']\n",
    "        newTerms = n['Topic Terms']\n",
    "        isnew = True\n",
    "        for x in existing_topics:\n",
    "            if newName == x['name']:\n",
    "                connection.put('topics/id/' + x['_id'], text = newTerms, name = newName) #we have to give the name as parameter as well, if not the name defaults to list of terms\n",
    "                isnew = False\n",
    "                print('The topic', newName, 'already exists - Overwritten with: ', newTerms )\n",
    "        if isnew:\n",
    "            connection.post('topics', text = newTerms, name = newName)\n",
    "            print('The topic', newName, 'is new - Created with', newTerms)\n",
    "    \n",
    "    print('\\nThe topics have been updated for project:',  project_info['name'], ', on workspace:', project_info['account_name'] )\n",
    "    \n",
    "    return connection.get('topics')"
   ]
  },
  {
   "cell_type": "markdown",
   "metadata": {},
   "source": [
    "# -----------------------------CONNECTION & INFO----------------------------------"
   ]
  },
  {
   "cell_type": "markdown",
   "metadata": {},
   "source": [
    "## Connecting to an Account (workspace) & list its projects"
   ]
  },
  {
   "cell_type": "code",
   "execution_count": 10,
   "metadata": {},
   "outputs": [],
   "source": [
    "#some parameters:\n",
    "user_name = 'bodier@luminoso.com'  #change to your own email that you use to login to Luminoso\n",
    "\n",
    "#use the correct one from below:\n",
    "api_url = 'https://analytics.luminoso.com/api/v4' \n",
    "#api_url = 'https://eu-analytics.luminoso.com/api/v4' \n",
    "\n",
    "account_id = 'n22d432u' #this is the accountID for your workspace"
   ]
  },
  {
   "cell_type": "code",
   "execution_count": 11,
   "metadata": {},
   "outputs": [],
   "source": [
    "from luminoso_api import LuminosoClient"
   ]
  },
  {
   "cell_type": "code",
   "execution_count": 12,
   "metadata": {},
   "outputs": [
    {
     "name": "stdout",
     "output_type": "stream",
     "text": [
      "Password for bodier@luminoso.com: ········\n"
     ]
    }
   ],
   "source": [
    "account_url = api_url + '/projects/' + account_id + '/'\n",
    "account_client = LuminosoClient.connect(account_url, username = user_name)\n",
    "all_projects = account_client.get()"
   ]
  },
  {
   "cell_type": "code",
   "execution_count": 31,
   "metadata": {},
   "outputs": [
    {
     "name": "stdout",
     "output_type": "stream",
     "text": [
      "Total number of projects: 21\n",
      "Employee - Boaz Demo    prvps2m4    BoA Mobile App Reviews Demo\n",
      "Employee - Boaz Demo    prjrm7d5    BoA reviews demo set\n",
      "Employee - Boaz Demo    prpr8x3b    Unilever - BoA - Training\n"
     ]
    }
   ],
   "source": [
    "print('Total number of projects:', len(all_projects))\n",
    "filterstr = 'BoA'.lower()\n",
    "for p in all_projects:\n",
    "    pn = p['name']\n",
    "    if filterstr in pn.lower():\n",
    "        print(p['account_name'], '  ',  p['project_id'], '  ',  pn)"
   ]
  },
  {
   "cell_type": "markdown",
   "metadata": {},
   "source": [
    "## Connect to a specific Luminoso Project"
   ]
  },
  {
   "cell_type": "code",
   "execution_count": 50,
   "metadata": {},
   "outputs": [
    {
     "name": "stdout",
     "output_type": "stream",
     "text": [
      "Password for bodier@luminoso.com: ········\n",
      "Connected to project: BoA reviews demo set\n",
      "https://analytics.luminoso.com/app/#/projects/n22d432u/prjrm7d5\n"
     ]
    }
   ],
   "source": [
    "project_id = 'prjrm7d5'  \n",
    "#change the end-point to it:\n",
    "client = LuminosoClient.connect(account_url + project_id, username=user_name)\n",
    "print('Connected to project: ' +  client.get()['name'])\n",
    "direct_url = (account_url + project_id).replace('api/v4','app/#')\n",
    "print(direct_url)"
   ]
  },
  {
   "cell_type": "code",
   "execution_count": 51,
   "metadata": {
    "scrolled": true
   },
   "outputs": [
    {
     "data": {
      "text/plain": [
       "{'account_name': 'Employee - Boaz Demo',\n",
       " 'axes': 150,\n",
       " 'counts': {\"Month: April '14\": 682,\n",
       "  \"Month: August '14\": 1172,\n",
       "  \"Month: December '14\": 773,\n",
       "  \"Month: January '15\": 425,\n",
       "  \"Month: July '14\": 1479,\n",
       "  \"Month: June '14\": 2613,\n",
       "  \"Month: March '14\": 282,\n",
       "  \"Month: May '14\": 1602,\n",
       "  \"Month: November '14\": 696,\n",
       "  \"Month: October '14\": 839,\n",
       "  \"Month: September '14\": 1451,\n",
       "  'Star Rating: 1': 5660,\n",
       "  'Star Rating: 2': 1532,\n",
       "  'Star Rating: 3': 1212,\n",
       "  'Star Rating: 4': 1088,\n",
       "  'Star Rating: 5': 2522,\n",
       "  'Store + Rating: apple 1': 731,\n",
       "  'Store + Rating: apple 2': 313,\n",
       "  'Store + Rating: apple 3': 263,\n",
       "  'Store + Rating: apple 4': 198,\n",
       "  'Store + Rating: apple 5': 282,\n",
       "  'Store + Rating: google 1': 4929,\n",
       "  'Store + Rating: google 2': 1219,\n",
       "  'Store + Rating: google 3': 949,\n",
       "  'Store + Rating: google 4': 890,\n",
       "  'Store + Rating: google 5': 2240,\n",
       "  'Store: apple': 1787,\n",
       "  'Store: google': 10227,\n",
       "  '__all__': 12014},\n",
       " 'creation_date': 1536053106.9767463,\n",
       " 'creator': 'bodier@luminoso.com',\n",
       " 'current_assoc_version': 1,\n",
       " 'description': 'for training',\n",
       " 'last_metaupdate': 1537783224.1401265,\n",
       " 'last_update': 1536053170.4281816,\n",
       " 'name': 'BoA reviews demo set',\n",
       " 'owner': 'n22d432u',\n",
       " 'permissions': ['*'],\n",
       " 'project_id': 'prjrm7d5',\n",
       " 'running_jobs': []}"
      ]
     },
     "execution_count": 51,
     "metadata": {},
     "output_type": "execute_result"
    }
   ],
   "source": [
    "#Get all the top level info about the project\n",
    "project_info = client.get()\n",
    "project_info"
   ]
  },
  {
   "cell_type": "markdown",
   "metadata": {},
   "source": [
    "## Look at the available Subsets (ie: metadata / filters)"
   ]
  },
  {
   "cell_type": "code",
   "execution_count": 52,
   "metadata": {},
   "outputs": [
    {
     "data": {
      "text/plain": [
       "['__all__', 'Month', 'Star Rating', 'Store + Rating', 'Store']"
      ]
     },
     "execution_count": 52,
     "metadata": {},
     "output_type": "execute_result"
    }
   ],
   "source": [
    "project_subsets, project_subsetTypes = get_subsets_info(client)\n",
    "project_subsetTypes"
   ]
  },
  {
   "cell_type": "code",
   "execution_count": 53,
   "metadata": {
    "scrolled": true
   },
   "outputs": [
    {
     "data": {
      "text/plain": [
       "[{'count': 12014,\n",
       "  'mean': 'V7wyCAj30hBhjB2hD34EbZ-zaCjj9W-u9_1xJHFw8-QAWcGYGAH_-I58EF9Yy-4cFO59YCDvZ93zGmY_4U7SW70hF9B-xjA2h56f_ZXAA1-xj7hlDa-Dsk8eL7SRDFC8Oo-x58BM9Ly75uBO7-jpCex_0mA04-zDB_wEAI_cjFyi57oD7B9kCCXFFYh8Nj8XR-llAVt93AFG6BsRB0i_MC9aKEUNATP_9Q_58CMt_p2AZi80JBZr_mkAkrAAfA0JAHSEpLAl56Dm9wYCwr_vWCj1AVvCdV_xg_vlCeuBmT-709VKCqt9N6BsZ_hd9QqCLnCsn-Sk8ZT_MO_7r-wSB7w-KO_8fCieAE_BmyBVvAM_91V9bg7l7EaJAiaDB8-OX_U6_A4_gHDCU_7FBVU_zo_eoBdF-SV_TVDIJBMnB23_nE_OE_n3-1T-me-55BufBKQ',\n",
       "  'subset': '__all__',\n",
       "  'subset_element': '',\n",
       "  'subset_type': '__all__'},\n",
       " {'count': 2613,\n",
       "  'mean': 'V8beBZU5g3BxkEEZAdpG2m9ZlFMH8ndsE0x7-Nga5rs9SKLy4Cpi9Wu8Gh9z1Be6Fg19ZDBbL-9dGnh_Dj7PY6k9H7R-VUBvG5alBx6Ajs8Xl6G2DzeFbY74r658Cz-9vI_z-5jI8oV66G_pB_2FCQ_BG_BP5-cJAfZEuH_LlGBp6GFEpF83KDn_Ejj8YS77x-37_Qo9mlFqQAqkC3j_sd9iEFeu_zO_ZP_ArBbgAWd_-S8JpB6N_dHAMYBttA5Z_1QEQjAf56P29WRC52_VBClmAf_CTSAaf_j_Cg8Bq6_Nu9MND0D9SOBGy_0o-SwCOSCtb-0I7mG_iAACW_tLCMh-sM_sHCmD_91BN-BEv_tw9fY8ws8R4D5EBKQC419rb-lU-Ra_27DUY_uHCOl_sk_U0BKl-jD_0zDeSBLvCY5_Ew_u8_MC-WO9n2-k0CosAvj',\n",
       "  'subset': \"Month: June '14\",\n",
       "  'subset_element': \"June '14\",\n",
       "  'subset_type': 'Month'}]"
      ]
     },
     "execution_count": 53,
     "metadata": {},
     "output_type": "execute_result"
    }
   ],
   "source": [
    "project_subsets[0:2]"
   ]
  },
  {
   "cell_type": "code",
   "execution_count": 54,
   "metadata": {},
   "outputs": [
    {
     "data": {
      "text/plain": [
       "['Store: google', 'Store: apple']"
      ]
     },
     "execution_count": 54,
     "metadata": {},
     "output_type": "execute_result"
    }
   ],
   "source": [
    "example_subset = get_subset_elements(project_subsets, 'Store')\n",
    "example_subset"
   ]
  },
  {
   "cell_type": "markdown",
   "metadata": {},
   "source": [
    "# ---------------------------------------TOPICS----------------------------------------"
   ]
  },
  {
   "cell_type": "markdown",
   "metadata": {},
   "source": [
    "##  Add a new Topic"
   ]
  },
  {
   "cell_type": "code",
   "execution_count": 40,
   "metadata": {},
   "outputs": [
    {
     "data": {
      "text/plain": [
       "{'Topic Name': 'SOME FANTASTOPIC',\n",
       " 'Topic Terms': 'Fantastic, topic, for testing !'}"
      ]
     },
     "execution_count": 40,
     "metadata": {},
     "output_type": "execute_result"
    }
   ],
   "source": [
    "test_topic = {'Topic Name': 'SOME FANTASTOPIC', 'Topic Terms': 'Fantastic, topic, for testing !'}\n",
    "test_topic"
   ]
  },
  {
   "cell_type": "code",
   "execution_count": 41,
   "metadata": {},
   "outputs": [
    {
     "data": {
      "text/plain": [
       "{'_id': '71494e05-bfd3-4d49-931b-0c1575ff4b4e',\n",
       " 'color': '#808080',\n",
       " 'name': 'SOME FANTASTOPIC',\n",
       " 'text': 'Fantastic, topic, for testing !',\n",
       " 'vector': 'W3-oAiQ1OgElm8NVH19_BhAAJ8ZXDNkxL_5W4GE5ARuAMl5Pf-hg96N8rM8zb6WK9MA9wwCCM9aoBfp5LO5NH_KtGr3_9D90lFvAFTbBLk30z7ctBU-Cat6X-9fxAGR9RkBw7HyuG8f5-YAn__kgBDi4yB_kKEjp_YkCLSC4k7S5Gee-K7-rCDim3RhG6z-hu8yuAzLCfTCfa9OuG4cCZd8_N8aDBUp9Rk8hb5QK_L9G4W-q99XHDvYAEeEg8BWj8iZDvcAliGBcEz-87-CY-9N1IhJ9H7-EJ-_R8mR7oDAsCC7HCkvFKQLoLFzzAez5sU9ACG1_COm_dX9-j-W0CHHC4Q77V3UL0UUCtg4Oh3STLluwIpBk_H_W-vBy5R6wqvdb7SrBzgAT0_0aJ1BCCjAph98nERw6Y_6goInEDZt2qYCgOFVR93zDWcCTQ9V_-EF'}"
      ]
     },
     "execution_count": 41,
     "metadata": {},
     "output_type": "execute_result"
    }
   ],
   "source": [
    "#insert a new topic\n",
    "new_topic = client.post('topics', text = test_topic['Topic Terms'], name = test_topic['Topic Name'])\n",
    "new_topic\n",
    "#you can now check that this topic exists in the UI of the project !"
   ]
  },
  {
   "cell_type": "code",
   "execution_count": 57,
   "metadata": {},
   "outputs": [
    {
     "name": "stdout",
     "output_type": "stream",
     "text": [
      "https://analytics.luminoso.com/app/#/projects/n22d432u/prjrm7d5\n"
     ]
    }
   ],
   "source": [
    "#  Now you can see it in the project, just refresh it in browser or click below\n",
    "print(direct_url)"
   ]
  },
  {
   "cell_type": "markdown",
   "metadata": {},
   "source": [
    "##  Delete a Topic"
   ]
  },
  {
   "cell_type": "code",
   "execution_count": 59,
   "metadata": {},
   "outputs": [
    {
     "data": {
      "text/plain": [
       "{'deleted': '71494e05-bfd3-4d49-931b-0c1575ff4b4e'}"
      ]
     },
     "execution_count": 59,
     "metadata": {},
     "output_type": "execute_result"
    }
   ],
   "source": [
    "#delete this topic:\n",
    "outcome_deletion = client.delete('topics/id/' + new_topic['_id'])\n",
    "outcome_deletion\n",
    "#you can now check that this topic is no longer in the UI of the project ! "
   ]
  },
  {
   "cell_type": "code",
   "execution_count": 58,
   "metadata": {},
   "outputs": [
    {
     "name": "stdout",
     "output_type": "stream",
     "text": [
      "https://analytics.luminoso.com/app/#/projects/n22d432u/prjrm7d5\n"
     ]
    }
   ],
   "source": [
    "#  Again you can check on your project, link below:\n",
    "print(direct_url)"
   ]
  },
  {
   "cell_type": "markdown",
   "metadata": {},
   "source": [
    "## Get all Topics currently in the Project"
   ]
  },
  {
   "cell_type": "code",
   "execution_count": 60,
   "metadata": {},
   "outputs": [],
   "source": [
    "topics = client.get('topics')"
   ]
  },
  {
   "cell_type": "code",
   "execution_count": 61,
   "metadata": {
    "scrolled": true
   },
   "outputs": [
    {
     "data": {
      "text/plain": [
       "[{'_id': '380a58b9-f1c9-433b-ba76-0847a3b1df65',\n",
       "  'color': '#ff379c',\n",
       "  'name': 'suggestions',\n",
       "  'text': 'suggestions',\n",
       "  'vector': 'W6SK_9e2XFGKB5eQBbT-RxAhuDdm6GA9wg8ypA6o7gNyGl9hk9Yl9Rc5kM-rRggQmOFRSuBr7D91CK90OU7ME_UB9qdAnu7VeFez_SRGJq-V5Dod_8eA1X6Z9DECCZB6A-FMcBZkGvW_kUAROE3wA7v9PpBEHA449dz8I4Arc6PyFpI-D6_3qBF37CyCkK-Rv--g-jTF7kAi58oqCeHBGMALuA0g9Zz6qa9jt7fS8X2_mBGAUBmiCL5_s5CEwBV1A8s-8o-DZJdc_0q8aTBvxDgHCgeBS0A9P8-49t7Fjb7os-rx_sUCIwCjwBQxDQT-wT8d--Kk7A6GHK_aDDB7BnoDvB9FgBQu76_Aoi_W3DAE_BF_G09RtFlWLnFDYGGzg-1y_qi_rV75REY3-c9-gHDQ99azABZCNuBweAxi85fD6F6rU9reGD1ClcC7R8UGBi3'},\n",
       " {'_id': '9220fe20-b2da-43b4-a45f-4ccbff6def24',\n",
       "  'color': '#15cf20',\n",
       "  'name': 'NEGATIVE_SENTIMENT',\n",
       "  'text': 'bad,terrible,useless,frustrating',\n",
       "  'vector': 'W07m50K8JM85GBh140xNIG_PUBdZ_HPus265jAnX_GqDu0GFhAv6EmL64oBv2Ab2BJ09XJJJL_S78vk0MMCMJ_dRRVaAUF-iw8_m_EMCoC7Bq7STBOBEqu70a-VL-g2AGv9XTDe24aU6fMBbc3D6NhrAw--gzB9_EwDEJUDjXHcd9fSBXOBbmFvO9od-MhATOEgCCaPCxVBvnCr8F5n8NZ_EbBjbFNCDc6ANB1j7CwmAib6sh-yd8VU_thBbE9vnDUP_VS9cs_j19Bt75f83HK7o_ntAEy-9KF2jCcu_5cHE39lPDgsEVmARLImsC8YAwgJCKBW9AhJAIEAKF37yADG_NJDhWMiLDTT4GNGWo4HyCzN2Pt_s5Ii8GDw-03QPGGBh66sB_4_tZIntJ1vDh57IeB2b_PJ9sgIFZBDdCCNDKC-d0CmEAMHDiA9CM_fX_9z'}]"
      ]
     },
     "execution_count": 61,
     "metadata": {},
     "output_type": "execute_result"
    }
   ],
   "source": [
    "topics[0:2]"
   ]
  },
  {
   "cell_type": "code",
   "execution_count": 62,
   "metadata": {
    "collapsed": true
   },
   "outputs": [
    {
     "name": "stdout",
     "output_type": "stream",
     "text": [
      "380a58b9-f1c9-433b-ba76-0847a3b1df65 suggestions    suggestions\n",
      "9220fe20-b2da-43b4-a45f-4ccbff6def24 NEGATIVE_SENTIMENT    bad,terrible,useless,frustrating\n",
      "ae7f5a5f-aea5-4a30-9f6a-35ced14c1cbd frustrating    frustrating\n",
      "60f31b6b-b514-45a9-aed3-3b7a4b8a3378 NOTIFICATIONS    notifications,alerts\n",
      "a62ca8f0-ec2b-4e9b-9071-0d95076a811a bank    bank\n",
      "36128d82-5480-4ef5-9e53-120196b1b6d0 Great app    Great app\n",
      "9405bb67-3f32-412f-bdc3-2965c3184662 convenient    convenient\n",
      "506d9652-7f74-42b8-a210-ec17384672d8 feature    feature\n",
      "19368c12-b2b0-4b8d-9d6f-06c5d4bed8f5 alerts    alerts\n",
      "4cf9e3a1-129e-4a47-a2dc-a27d9eae5673 transfer    transfer\n",
      "24d7cb5c-f931-4cc9-a95b-55856d7f1b75 password    password\n",
      "2890401b-15a9-418d-9c76-344741bb9429 can't log    can't log\n",
      "bc87d37b-8ffd-42c1-9abc-b396e9d80710 camera    camera\n",
      "cc16fab6-63d8-4226-8242-fb9d3236cbbc tried    tried\n",
      "f366cc0d-7242-4e23-8b9f-6b244924f323 try to deposit a check    try to deposit a check\n",
      "296b7f17-e235-471d-bad3-bcfba23d4955 photo    photo\n",
      "8b5595f4-4287-409b-8cea-e8909d066ec9 Check deposit    Check deposit\n",
      "20827ff6-1c6f-43fc-af55-214b28ee32bc Can't deposit checks    Can't deposit checks\n",
      "84a1efa7-b137-4b97-b15e-5e60c5454dcf use this app    use this app\n",
      "8e9a526c-1055-49f6-93e6-f41c50433b2b upgrade    upgrade\n",
      "d71b66d0-6e77-40e0-9b97-c47100975271 Please fix    Please fix\n",
      "ccb6bcb0-6b26-4dc3-80ae-d85e14527ea9 crashes    crashes\n",
      "e2cb94b2-2cc6-4e52-bf65-5630a1ae3836 new update    new update\n",
      "4d96a9af-52e3-4011-b45b-bb46b39e242e screen    screen\n",
      "880b20da-b7a5-4b91-bd87-afd0713cfb21 BOA    BOA\n",
      "d58c48dc-d227-42d6-9248-884f53b40d85 fix    fix\n",
      "9cc83592-5f31-47e0-8def-86dd72fa3430 BofA    BofA\n",
      "40aa94ec-13de-4527-973f-15b7af1a76c7 useless    useless\n",
      "fcd663d5-03bc-4b5e-9a64-aa597f6dd153 login    login\n",
      "5b307e37-d8fa-43a8-b30f-bf0c6ed3583b error    error\n",
      "a4c12436-f356-4ee1-911d-f64942f4f61c annoying    annoying\n",
      "5b032e3c-ab0e-48aa-b264-0dead14d82e8 transactions    transactions\n"
     ]
    }
   ],
   "source": [
    "for x in topics:\n",
    "    print( x['_id'], x['name'] , '  ',  x['text'])"
   ]
  },
  {
   "cell_type": "code",
   "execution_count": 63,
   "metadata": {},
   "outputs": [],
   "source": [
    "#If needed, you can use the helper function from above to create a mapping table from topic IDs to their Names\n",
    "id_topicnames_table = build_ID_TOPICNAME_dict(topics)"
   ]
  },
  {
   "cell_type": "markdown",
   "metadata": {},
   "source": [
    "## Import topics data from a CSV"
   ]
  },
  {
   "cell_type": "code",
   "execution_count": 64,
   "metadata": {
    "scrolled": true
   },
   "outputs": [
    {
     "name": "stdout",
     "output_type": "stream",
     "text": [
      "Data loaded from file:   BoA_topics_list.csv\n",
      "\n",
      "BANK OF AMERICA : Bank of America, BoA, BofA\n",
      "UPDATES : upgrade, new update, version\n",
      "WIFI : wifi\n",
      "ALERTS : alerts, notifications\n",
      "PROBLEM DEPOSIT CHECKS : Can't deposit checks\n",
      "SENTIMENT_NEGATIVE : bad, terrible,awful,sadly,annoying, frustrating,upset\n",
      "SENTIMENT_POSITIVE : great, convenient, love this app, fantastic, awesome, good\n"
     ]
    }
   ],
   "source": [
    "#API_TRAINING_BoA_topics_list.csv\n",
    "topic_file = 'API_TRAINING_BoA_topics_list.csv'  #file from wich the topics will be loaded\n",
    "\n",
    "input_topics = load_from_CSV(topic_file)\n",
    "\n",
    "print('')\n",
    "for x in input_topics:\n",
    "    print(x['Topic Name'], ':' ,  x['Topic Terms'])"
   ]
  },
  {
   "cell_type": "markdown",
   "metadata": {},
   "source": [
    "## Upload all new Topics onto Project, overwriting the definition for each if it already exists"
   ]
  },
  {
   "cell_type": "code",
   "execution_count": 65,
   "metadata": {},
   "outputs": [
    {
     "name": "stdout",
     "output_type": "stream",
     "text": [
      "The topic BANK OF AMERICA is new - Created with Bank of America, BoA, BofA\n",
      "The topic UPDATES is new - Created with upgrade, new update, version\n",
      "The topic WIFI is new - Created with wifi\n",
      "The topic ALERTS is new - Created with alerts, notifications\n",
      "The topic PROBLEM DEPOSIT CHECKS is new - Created with Can't deposit checks\n",
      "The topic SENTIMENT_NEGATIVE is new - Created with bad, terrible,awful,sadly,annoying, frustrating,upset\n",
      "The topic SENTIMENT_POSITIVE is new - Created with great, convenient, love this app, fantastic, awesome, good\n",
      "\n",
      "The topics have been updated for project: BoA reviews demo set , on workspace: Employee - Boaz Demo\n"
     ]
    }
   ],
   "source": [
    "refreshed_topics = create_or_update_topics(client, input_topics)"
   ]
  },
  {
   "cell_type": "code",
   "execution_count": 66,
   "metadata": {
    "collapsed": true
   },
   "outputs": [
    {
     "data": {
      "text/plain": [
       "{'04985643-a81e-4e95-b025-99fe70401190': 'BANK OF AMERICA',\n",
       " '181c60f2-8060-4ad8-b039-431f6890feec': 'WIFI',\n",
       " '19368c12-b2b0-4b8d-9d6f-06c5d4bed8f5': 'alerts',\n",
       " '20827ff6-1c6f-43fc-af55-214b28ee32bc': \"Can't deposit checks\",\n",
       " '24d7cb5c-f931-4cc9-a95b-55856d7f1b75': 'password',\n",
       " '2890401b-15a9-418d-9c76-344741bb9429': \"can't log\",\n",
       " '296b7f17-e235-471d-bad3-bcfba23d4955': 'photo',\n",
       " '2f78a9b7-aa89-43ce-a08e-eb962ace550e': 'SENTIMENT_NEGATIVE',\n",
       " '36128d82-5480-4ef5-9e53-120196b1b6d0': 'Great app',\n",
       " '380a58b9-f1c9-433b-ba76-0847a3b1df65': 'suggestions',\n",
       " '40aa94ec-13de-4527-973f-15b7af1a76c7': 'useless',\n",
       " '4b4b3d75-ffa5-4cd4-938d-b0d862c7365d': 'ALERTS',\n",
       " '4cf9e3a1-129e-4a47-a2dc-a27d9eae5673': 'transfer',\n",
       " '4d96a9af-52e3-4011-b45b-bb46b39e242e': 'screen',\n",
       " '506d9652-7f74-42b8-a210-ec17384672d8': 'feature',\n",
       " '5b032e3c-ab0e-48aa-b264-0dead14d82e8': 'transactions',\n",
       " '5b307e37-d8fa-43a8-b30f-bf0c6ed3583b': 'error',\n",
       " '60f31b6b-b514-45a9-aed3-3b7a4b8a3378': 'NOTIFICATIONS',\n",
       " '6d24aa97-c98d-47d6-85b7-f6cefd5497af': 'SENTIMENT_POSITIVE',\n",
       " '84a1efa7-b137-4b97-b15e-5e60c5454dcf': 'use this app',\n",
       " '880b20da-b7a5-4b91-bd87-afd0713cfb21': 'BOA',\n",
       " '8b5595f4-4287-409b-8cea-e8909d066ec9': 'Check deposit',\n",
       " '8e9a526c-1055-49f6-93e6-f41c50433b2b': 'upgrade',\n",
       " '9220fe20-b2da-43b4-a45f-4ccbff6def24': 'NEGATIVE_SENTIMENT',\n",
       " '9405bb67-3f32-412f-bdc3-2965c3184662': 'convenient',\n",
       " '94d2be04-9f5e-4553-b0d3-cde1206f37a8': 'UPDATES',\n",
       " '9cc83592-5f31-47e0-8def-86dd72fa3430': 'BofA',\n",
       " 'a4c12436-f356-4ee1-911d-f64942f4f61c': 'annoying',\n",
       " 'a62ca8f0-ec2b-4e9b-9071-0d95076a811a': 'bank',\n",
       " 'ae7f5a5f-aea5-4a30-9f6a-35ced14c1cbd': 'frustrating',\n",
       " 'bc87d37b-8ffd-42c1-9abc-b396e9d80710': 'camera',\n",
       " 'c22c7af5-117f-4c4d-9689-cac268068fa9': 'PROBLEM DEPOSIT CHECKS',\n",
       " 'cc16fab6-63d8-4226-8242-fb9d3236cbbc': 'tried',\n",
       " 'ccb6bcb0-6b26-4dc3-80ae-d85e14527ea9': 'crashes',\n",
       " 'd58c48dc-d227-42d6-9248-884f53b40d85': 'fix',\n",
       " 'd71b66d0-6e77-40e0-9b97-c47100975271': 'Please fix',\n",
       " 'e2cb94b2-2cc6-4e52-bf65-5630a1ae3836': 'new update',\n",
       " 'f366cc0d-7242-4e23-8b9f-6b244924f323': 'try to deposit a check',\n",
       " 'fcd663d5-03bc-4b5e-9a64-aa597f6dd153': 'login'}"
      ]
     },
     "execution_count": 66,
     "metadata": {},
     "output_type": "execute_result"
    }
   ],
   "source": [
    "#If needed, use the helper function to get a mapping table from topic IDs to their Names\n",
    "id_topicnames_table = build_ID_TOPICNAME_dict(refreshed_topics)\n",
    "id_topicnames_table"
   ]
  },
  {
   "cell_type": "markdown",
   "metadata": {},
   "source": [
    "# --------------------GETTING DOCUMENTS FROM A PROJECT------------------"
   ]
  },
  {
   "cell_type": "markdown",
   "metadata": {},
   "source": [
    "## Download all the documents"
   ]
  },
  {
   "cell_type": "code",
   "execution_count": 67,
   "metadata": {},
   "outputs": [
    {
     "data": {
      "text/plain": [
       "12014"
      ]
     },
     "execution_count": 67,
     "metadata": {},
     "output_type": "execute_result"
    }
   ],
   "source": [
    "DOCS = get_all_docs(client)\n",
    "len(DOCS)"
   ]
  },
  {
   "cell_type": "code",
   "execution_count": 68,
   "metadata": {},
   "outputs": [
    {
     "data": {
      "text/plain": [
       "{'_id': 'uuid-a9dd3817fd464e31af1ecdadffb355c9',\n",
       " 'fragments': [['credit|en', 'NOUN/T', [61, 67]],\n",
       "  ['card|en', 'NOUN/T', [68, 72]]],\n",
       " 'language': 'en',\n",
       " 'predict': {},\n",
       " 'source': {'type': 'Unknown'},\n",
       " 'subsets': ['__all__',\n",
       "  'Star Rating: 4',\n",
       "  'Store + Rating: google 4',\n",
       "  'Store: google',\n",
       "  \"Month: January '15\"],\n",
       " 'terms': [['point|en', 'NOUN/T', [7, 12]],\n",
       "  ['good|en', 'ADJ/T', [16, 20]],\n",
       "  ['allow|en', 'VERB/T', [21, 27]],\n",
       "  ['u|en', 'NOUN-PROP/T', [28, 29]],\n",
       "  ['check|en', 'VERB/T', [33, 38]],\n",
       "  ['ur|en', 'ADJ/T', [39, 41]],\n",
       "  ['balance|en', 'NOUN/T', [42, 49]],\n",
       "  ['pay|en', 'VERB/T', [54, 57]],\n",
       "  ['ur|en', 'ADJ/T', [58, 60]],\n",
       "  ['credit|en card|en', 'NOUN/T NOUN/T', [61, 72]],\n",
       "  ['obviously|en', 'ADV/T', [90, 99]],\n",
       "  ['u|en', 'NOUN-PROP/T', [100, 101]],\n",
       "  ['go|en', 'VERB/T', [107, 109]],\n",
       "  ['branch|en', 'NOUN/T', [118, 124]]],\n",
       " 'text': 'To the point Is good allows u to check ur balance and pay ur credit card other than that..obviously u must go in to a branch',\n",
       " 'title': \"4 stars, google, January '15\",\n",
       " 'vector': 'W77KCc-0vy8cr5lbSGY571Fzq4SdELeUcQMhnxD7Hl6Gya14MBAo7_w-jU7e5DCH-45-0tIA3A202n9z0yNJ4_ko3_W9iqDIC80LCPmBX__9JDUz1kl8NaDi__OUGO0-eYBPOAg01LlDhF-iV7Dl_fw_ZPAV36KPC1qHrsHgW8IZ9WtAV4EXVEvH56NAiF6rtA3v_io_y9E-M-bk8lBDXZDkzEop6Ne_vO9FCDvSGbA9mw49t7xZBjFCTK5hfBgNEpg42FA0e8-yANMABdFGJB9QCxC8QeCOT_s29VN8E77zIBgm7P57ytC6l7mxBPSAll-ZP-BdBx36Sx-IU6kp8a3AFdGQXCWJC57Bvt9oGBDf8qPFfLFCq9aOAcT-RcCP0AoM9bS51k7mO8ixDxj6EO5WR_slFO7-2b_EU6ZZEzr8JID4ZBi3GNdEilD93CAY_8m'}"
      ]
     },
     "execution_count": 68,
     "metadata": {},
     "output_type": "execute_result"
    }
   ],
   "source": [
    "#Structure of a document in a project:\n",
    "DOCS[105]"
   ]
  },
  {
   "cell_type": "markdown",
   "metadata": {},
   "source": [
    "## Saving documents into CSV"
   ]
  },
  {
   "cell_type": "code",
   "execution_count": 69,
   "metadata": {},
   "outputs": [],
   "source": [
    "# choose which info to keep for export:\n",
    "docs_output = []\n",
    "for d in DOCS:\n",
    "    obj = {}\n",
    "    obj['Luminoso_docID'] = d['_id']\n",
    "    obj['text'] = d['text']\n",
    "    obj['title'] = d['title']\n",
    "    metadata = subset_array_to_dict(d['subsets'])\n",
    "    for subset, value in metadata.items():\n",
    "        obj[subset] = value\n",
    "    docs_output.append(obj)"
   ]
  },
  {
   "cell_type": "code",
   "execution_count": 70,
   "metadata": {},
   "outputs": [
    {
     "data": {
      "text/plain": [
       "12014"
      ]
     },
     "execution_count": 70,
     "metadata": {},
     "output_type": "execute_result"
    }
   ],
   "source": [
    "len(docs_output)"
   ]
  },
  {
   "cell_type": "code",
   "execution_count": 71,
   "metadata": {},
   "outputs": [
    {
     "data": {
      "text/plain": [
       "{'Luminoso_docID': 'uuid-1c8b63fe109b475886977a8ea0143be8',\n",
       " 'Month': \"January '15\",\n",
       " 'Star Rating': '4',\n",
       " 'Store': 'google',\n",
       " 'Store + Rating': 'google 4',\n",
       " 'text': \"BofA Review. Now that I have installed the BofA app how do Iopen it?  I don't see any icon like I had before,  when I had the app that I can push to bring me to the bank site.\",\n",
       " 'title': \"4 stars, google, January '15\"}"
      ]
     },
     "execution_count": 71,
     "metadata": {},
     "output_type": "execute_result"
    }
   ],
   "source": [
    "docs_output[0]"
   ]
  },
  {
   "cell_type": "code",
   "execution_count": 73,
   "metadata": {
    "scrolled": true
   },
   "outputs": [
    {
     "name": "stdout",
     "output_type": "stream",
     "text": [
      "Data saved to file:   DOCS-DOWNLOAD_BoA reviews demo set.csv\n"
     ]
    }
   ],
   "source": [
    "# Write to Output File\n",
    "#docs_output_file = 'API_TRAINING_OUPUT_documents.csv'\n",
    "docs_output_file = 'DOCS-DOWNLOAD_' + project_info['name'] #using name of project\n",
    "save_to_CSV(docs_output_file, docs_output)"
   ]
  },
  {
   "cell_type": "markdown",
   "metadata": {},
   "source": [
    "# ----------------------------------------------------------------------------------------"
   ]
  },
  {
   "cell_type": "markdown",
   "metadata": {},
   "source": [
    "## The 'terms/search' Endpoint"
   ]
  },
  {
   "cell_type": "code",
   "execution_count": 74,
   "metadata": {},
   "outputs": [],
   "source": [
    "examples_terms = 'cheque'"
   ]
  },
  {
   "cell_type": "code",
   "execution_count": 75,
   "metadata": {},
   "outputs": [
    {
     "data": {
      "text/plain": [
       "dict_keys(['search_results', 'search_vector'])"
      ]
     },
     "execution_count": 75,
     "metadata": {},
     "output_type": "execute_result"
    }
   ],
   "source": [
    "# We can feed the API 'terms/search' endpoint with a list of topics, \n",
    "# and it will give us a list of search results with terms most closely associated with this list\n",
    "exple_search_results = client.get('terms/search', text=examples_terms,limit=100)\n",
    "exple_search_results.keys()"
   ]
  },
  {
   "cell_type": "code",
   "execution_count": 76,
   "metadata": {},
   "outputs": [
    {
     "data": {
      "text/plain": [
       "100"
      ]
     },
     "execution_count": 76,
     "metadata": {},
     "output_type": "execute_result"
    }
   ],
   "source": [
    "len(exple_search_results['search_results'])"
   ]
  },
  {
   "cell_type": "code",
   "execution_count": 82,
   "metadata": {},
   "outputs": [
    {
     "data": {
      "text/plain": [
       "[{'all_texts': {'4 CORNERS': 1,\n",
       "   '4 Corners': 1,\n",
       "   '4 corner': 1,\n",
       "   '4 corners': 85},\n",
       "  'bg_freq': 1.191590909090909e-05,\n",
       "  'distinct_doc_count': 84,\n",
       "  'score': 84.0,\n",
       "  'term': '4|en corner|en',\n",
       "  'text': '4 corners',\n",
       "  'total_doc_count': 98,\n",
       "  'vector': 'X_5__37CI-_irDPwzxc9zB__B_3y7Yn9spGiUu1EEbf-296TZ8b_AW4-6GAZV9gi-fx-xZAsC-nI-6j_GLALXAYS_RzBSk-ZiBJ197vBYO-jaAFE-ls_Ir_lsCdb-La-Zc9RTE_7B_JAYeBl49Mc9xj_R0__TBr1AOB91_BjtAJdAAgAb5_ivAEx7HQ-KOBUfA3gBI1-4bBs9A91AQF_vdCMw64V9-RCCYApKD2qAFmCEJ-2yBpLBfz-ez_zhBbZ-fB--P-PgEca_6AAqDCWfAYpCSBAKy_dT-rr-0m-dsADnBpGBEh63XAft_r3-l1A6x-k6_XQBSU-5a-PPBy0-aAATLAGl-ae-t4CpJ8jKBB8AkQB9qB-G9luA5C-k4C66AYgBRb_au-Nk99T7tyBrW_Qs_bXA9h_9aBeL_mJD4QACKBlZ8o8AwPAq6A_dBAABfM'},\n",
       " 0.83599454164505]"
      ]
     },
     "execution_count": 82,
     "metadata": {},
     "output_type": "execute_result"
    }
   ],
   "source": [
    "# The results are in the 'search_results' value, and we also get the associated search vector, which we discard.\n",
    "# Lets look at, for example, the 17th result:\n",
    "exple_search_results['search_results'][2]"
   ]
  },
  {
   "cell_type": "code",
   "execution_count": 83,
   "metadata": {},
   "outputs": [
    {
     "data": {
      "text/plain": [
       "'4|en corner|en'"
      ]
     },
     "execution_count": 83,
     "metadata": {},
     "output_type": "execute_result"
    }
   ],
   "source": [
    "#the first element is the actual search results\n",
    "exple_search_results['search_results'][2][0]['term']"
   ]
  },
  {
   "cell_type": "code",
   "execution_count": 84,
   "metadata": {},
   "outputs": [
    {
     "data": {
      "text/plain": [
       "0.83599454164505"
      ]
     },
     "execution_count": 84,
     "metadata": {},
     "output_type": "execute_result"
    }
   ],
   "source": [
    "#second element is the score\n",
    "exple_search_results['search_results'][2][1]"
   ]
  },
  {
   "cell_type": "markdown",
   "metadata": {},
   "source": [
    "### Another example of a search result"
   ]
  },
  {
   "cell_type": "code",
   "execution_count": 86,
   "metadata": {},
   "outputs": [
    {
     "data": {
      "text/plain": [
       "'perfectly|en clear|en'"
      ]
     },
     "execution_count": 86,
     "metadata": {},
     "output_type": "execute_result"
    }
   ],
   "source": [
    "# Another example, look at the th result:\n",
    "exple_search_results['search_results'][1][0]['term']"
   ]
  },
  {
   "cell_type": "markdown",
   "metadata": {},
   "source": [
    "### Using the 'terms/doc_counts' endpoint"
   ]
  },
  {
   "cell_type": "code",
   "execution_count": 91,
   "metadata": {},
   "outputs": [
    {
     "data": {
      "text/plain": [
       "['perfectly|en clear|en', '4|en corner|en', 'retake|en']"
      ]
     },
     "execution_count": 91,
     "metadata": {},
     "output_type": "execute_result"
    }
   ],
   "source": [
    "exple_terms_array = []\n",
    "exple_terms_array.append(exple_search_results['search_results'][1][0]['term'])\n",
    "exple_terms_array.append(exple_search_results['search_results'][2][0]['term'])\n",
    "exple_terms_array.append(exple_search_results['search_results'][9][0]['term'])\n",
    "exple_terms_array"
   ]
  },
  {
   "cell_type": "code",
   "execution_count": 92,
   "metadata": {},
   "outputs": [],
   "source": [
    "exple_stats = client.get('terms/doc_counts', terms=exple_terms_array, format='json')"
   ]
  },
  {
   "cell_type": "code",
   "execution_count": 93,
   "metadata": {},
   "outputs": [
    {
     "name": "stdout",
     "output_type": "stream",
     "text": [
      "{'num_related_matches': 3279, 'num_exact_matches': 24, 'text': 'perfectly clear'}\n",
      "{'num_related_matches': 3156, 'num_exact_matches': 98, 'text': '4 corners'}\n",
      "{'num_related_matches': 3206, 'num_exact_matches': 81, 'text': 'retake'}\n"
     ]
    }
   ],
   "source": [
    "#the stats gives us the number of Exact & Related matches\n",
    "for x in exple_stats:\n",
    "    print(x)"
   ]
  },
  {
   "cell_type": "markdown",
   "metadata": {},
   "source": [
    "### Counting on a Subset only"
   ]
  },
  {
   "cell_type": "code",
   "execution_count": 94,
   "metadata": {},
   "outputs": [
    {
     "data": {
      "text/plain": [
       "['Store: google', 'Store: apple']"
      ]
     },
     "execution_count": 94,
     "metadata": {},
     "output_type": "execute_result"
    }
   ],
   "source": [
    "example_subset"
   ]
  },
  {
   "cell_type": "code",
   "execution_count": 96,
   "metadata": {},
   "outputs": [
    {
     "name": "stdout",
     "output_type": "stream",
     "text": [
      "terms/doc_counts Results on a few terms, with subset = Store: google\n"
     ]
    },
    {
     "data": {
      "text/plain": [
       "[{'num_exact_matches': 21,\n",
       "  'num_related_matches': 2759,\n",
       "  'text': 'perfectly clear'},\n",
       " {'num_exact_matches': 97, 'num_related_matches': 2639, 'text': '4 corners'},\n",
       " {'num_exact_matches': 76, 'num_related_matches': 2688, 'text': 'retake'}]"
      ]
     },
     "execution_count": 96,
     "metadata": {},
     "output_type": "execute_result"
    }
   ],
   "source": [
    "#get counts on only a subset:\n",
    "chosen_subset = example_subset[0]\n",
    "print('terms/doc_counts Results on a few terms, with subset =', chosen_subset)\n",
    "exple_stats_SUBSET = client.get('terms/doc_counts', terms=exple_terms_array, subset=chosen_subset, format='json')\n",
    "exple_stats_SUBSET                                                                            "
   ]
  },
  {
   "cell_type": "markdown",
   "metadata": {},
   "source": [
    "## Using the 'docs/vectors' endpoint to transform a list of terms in another format..."
   ]
  },
  {
   "cell_type": "code",
   "execution_count": 97,
   "metadata": {},
   "outputs": [
    {
     "data": {
      "text/plain": [
       "'alerts, notifications'"
      ]
     },
     "execution_count": 97,
     "metadata": {},
     "output_type": "execute_result"
    }
   ],
   "source": [
    "a_list = input_topics[3]['Topic Terms']\n",
    "a_list"
   ]
  },
  {
   "cell_type": "code",
   "execution_count": 98,
   "metadata": {},
   "outputs": [
    {
     "data": {
      "text/plain": [
       "[{'text': 'alerts, notifications'}]"
      ]
     },
     "execution_count": 98,
     "metadata": {},
     "output_type": "execute_result"
    }
   ],
   "source": [
    "#putting in JSON format:\n",
    "[{'text': a_list }]"
   ]
  },
  {
   "cell_type": "code",
   "execution_count": 99,
   "metadata": {},
   "outputs": [
    {
     "data": {
      "text/plain": [
       "[{'fragments': [],\n",
       "  'terms': [['alert|en', 'NOUN/T', [0, 6]],\n",
       "   ['notification|en', 'NOUN/T', [8, 21]]],\n",
       "  'text': 'alerts, notifications',\n",
       "  'vector': 'W_sfAEC8p9-d09MvBRt_IbCLlAGt_63OxYCXDCRA-Sf5T6-mBB7N4ziGBJA1YHH3AaWDVv-FPC3q7ep6ZY-0Z7zdCMs6S80p_DGN3tyFFD9YoFKQFX4-A6BZB8kX_jhErV4lb4LwH8J9ce3sF-3N9R8Bdv_a6Cch8Yr6ar7P-JV--pT-q0A8N1mUA0-ZmnFkwzjxHVC4yaChbENL5yY5cVzzUCwr4j5HxS9qRCBLKxIK0B-1y9WIBkg7XdypH5eD9maA3wE6r6uB8PCCLZAyF-d35k2AKn6h8COE832_P4CC29a-ILH5Kq96y9eZ6kq9pyFDZEeP8jn63I4k08qd32E9UUBG7CGy-DJCG8_979NV_9w8E_-bLAzDBSyD4VGFo8IN8g6B57EPE-oZAmb8oSCUbFll8yqAVh8nrDTH-MnBre8OO-j0AWe_SaDIm_vT_oW'}]"
      ]
     },
     "execution_count": 99,
     "metadata": {},
     "output_type": "execute_result"
    }
   ],
   "source": [
    "vector_ping = client.upload('docs/vectors', [{'text': a_list }] )\n",
    "vector_ping"
   ]
  },
  {
   "cell_type": "code",
   "execution_count": 100,
   "metadata": {},
   "outputs": [
    {
     "data": {
      "text/plain": [
       "[['alert|en', 'NOUN/T', [0, 6]], ['notification|en', 'NOUN/T', [8, 21]]]"
      ]
     },
     "execution_count": 100,
     "metadata": {},
     "output_type": "execute_result"
    }
   ],
   "source": [
    "vector_ping[0]['terms']"
   ]
  },
  {
   "cell_type": "code",
   "execution_count": 101,
   "metadata": {},
   "outputs": [
    {
     "data": {
      "text/plain": [
       "['alert|en', 'notification|en']"
      ]
     },
     "execution_count": 101,
     "metadata": {},
     "output_type": "execute_result"
    }
   ],
   "source": [
    "#We select the data we need from result above, so as to have it in another format that we can re-use later\n",
    "vector_ping_terms = [t for t,_,_ in vector_ping[0]['terms'] ]\n",
    "vector_ping_terms"
   ]
  },
  {
   "cell_type": "markdown",
   "metadata": {},
   "source": [
    "## ... to be used directly in the 'docs/search' endpoint, where we can filter by subset and get stats"
   ]
  },
  {
   "cell_type": "code",
   "execution_count": 105,
   "metadata": {},
   "outputs": [
    {
     "data": {
      "text/plain": [
       "'Store: google'"
      ]
     },
     "execution_count": 105,
     "metadata": {},
     "output_type": "execute_result"
    }
   ],
   "source": [
    "chosen_subset"
   ]
  },
  {
   "cell_type": "code",
   "execution_count": 106,
   "metadata": {
    "scrolled": true
   },
   "outputs": [
    {
     "data": {
      "text/plain": [
       "{'exact_terms': ['notification|en', 'alert|en'],\n",
       " 'num_exact_matches': 206,\n",
       " 'num_related_matches': 137,\n",
       " 'related_terms': ['not|en disappear|en',\n",
       "  'not|en dismiss|en',\n",
       "  'not|en reset|en',\n",
       "  'badge|en',\n",
       "  'log|en back|en',\n",
       "  'log|en in|en twice|en',\n",
       "  'recheck|en',\n",
       "  'alert|en notification|en',\n",
       "  'alert|en badge|en',\n",
       "  'not|en go|en',\n",
       "  'indicator|en',\n",
       "  're-open|en',\n",
       "  'not|en pop|en',\n",
       "  'not|en enable|en',\n",
       "  'back-in|en',\n",
       "  'not|en refresh|en',\n",
       "  'not|en turn|en',\n",
       "  'count|en'],\n",
       " 'search_results': [[{'conceptual_indices': [[35, 55]],\n",
       "    'document': {'_id': 'uuid-d4486c0b57b14380bfa87f981bfafa96',\n",
       "     'fragments': [['alert|en', 'VERB/T', [35, 40]],\n",
       "      ['notification|en', 'NOUN/T', [42, 55]]],\n",
       "     'language': 'en',\n",
       "     'predict': {},\n",
       "     'source': {'type': 'Unknown'},\n",
       "     'subsets': ['__all__',\n",
       "      'Store + Rating: google 2',\n",
       "      'Store: google',\n",
       "      'Star Rating: 2',\n",
       "      \"Month: January '15\"],\n",
       "     'terms': [['notification|en', 'NOUN/T', [0, 12]],\n",
       "      ['alert|en', 'VERB/T', [13, 19]],\n",
       "      ['unable|en', 'ADJ/T', [20, 26]],\n",
       "      ['turn|en', 'VERB/T', [30, 34]],\n",
       "      ['alert|en notification|en', 'VERB/T NOUN/T', [35, 55]],\n",
       "      ['lollipop|en', 'NOUN/T', [59, 67]],\n",
       "      ['nexus|en', 'NOUN/T', [75, 80]],\n",
       "      ['not|en support|en', 'NEG/N VERB/T', [90, 103]],\n",
       "      ['wrong|en', 'ADJ/T', [128, 133]],\n",
       "      ['setup|en', 'NOUN/T', [142, 147]]],\n",
       "     'text': 'Notification/Alerts Unable to turn Alert/ Notifications on Lollipop 5.0.1/ Nexus 6. Is it not supported on this yet or anything wrong with my setup?',\n",
       "     'title': \"2 stars, google, January '15\",\n",
       "     'vector': 'W-AAAmx7UE9319Ga95PAkICpWCa38G_P91A7nDwl7Yc1fUBIaC8p4PrFqZBYEHLT-9kBwD-2ZAnt7q29c3A936aLBMJ7kU2EhChv3FIFpp-ldGFsEqw8OfCUK-C8A8MDgP7ku5etIsF9z54Kk7NS8R7BAF_JAEbX6005B67kYCf5_Rk-8-BSC3TyBfKVSzFNE2G5GBC4Cs9MOA-17Dw55K3VoCzI4BMI8R96TFd8OGjJHG9fI7lqDXR7sTx0P76-9fd_l7DFM6GD-AFBHLBvd-cE4tvANR7uHB5x96oA1mBKE52SHAw3mx7Mu9xO7mW_BIE2IBEq7l96F83Oq7gj3l2-Gt88E_RC9OkBxM_iL9-9-AR7iw9pzDrP-QXCDXJm77s65fZB5sCP-_McCc89pE9rfDiO5GoAMs-yTC3T-0xBEm4YY8QM_E7-QDFAN6UTAiZ'},\n",
       "    'exact_indices': [[0, 12], [13, 19], [35, 40], [42, 55]]},\n",
       "   2.973564624786377],\n",
       "  [{'conceptual_indices': [[53, 72]],\n",
       "    'document': {'_id': 'uuid-31c2d6bbd4ad4d8c8f02a56ac3628d8f',\n",
       "     'fragments': [['alert|en', 'VERB/T', [53, 58]],\n",
       "      ['notification|en', 'NOUN/T', [59, 72]],\n",
       "      ['keep|en', 'VERB/T', [77, 82]],\n",
       "      ['tell|en', 'VERB/T', [83, 90]],\n",
       "      ['try|en', 'VERB/T', [97, 100]],\n",
       "      ['late|en', 'ADV/T', [107, 112]]],\n",
       "     'language': 'en',\n",
       "     'predict': {},\n",
       "     'source': {'type': 'Unknown'},\n",
       "     'subsets': ['__all__',\n",
       "      'Store + Rating: google 2',\n",
       "      \"Month: December '14\",\n",
       "      'Store: google',\n",
       "      'Star Rating: 2'],\n",
       "     'terms': [['notification|en', 'NOUN/T', [0, 13]],\n",
       "      ['reason|en', 'NOUN/T', [23, 29]],\n",
       "      ['not|en let|en', 'NEG/N VERB/T', [33, 42]],\n",
       "      ['enable|en', 'VERB/T', [46, 52]],\n",
       "      ['alert|en notification|en', 'VERB/T NOUN/T', [53, 72]],\n",
       "      ['keep|en tell|en', 'VERB/T VERB/T', [77, 90]],\n",
       "      ['try|en late|en', 'VERB/T ADV/T', [97, 112]]],\n",
       "     'text': \"Notifications For Some Reason It Won't Let Me Enable Alert Notifications Its Keeps Telling Me To Try Again Later.\",\n",
       "     'title': \"2 stars, google, December '14\",\n",
       "     'vector': 'W_fRAWT7QV_A96nY610ABzBFtEUZ6v8OyeEGL7xd9sV3Y6_i9-yA6vrB8DBJdEbJA97BQeBBU_KF-Jh_6VA_t7iL9p7Cze0-sGguxNbDh7Ai8HUWDdW9fqBfK9Op9_EAm62bYA7cHpz-E27Jd1Z67Ej_ld_wYGQq9oT25Q6UuJGK9hK_JSAFw1qhErZQGlGhR3B7Hn_3hS94pBr766b63t3k8A1d5TULJrBdkG8QLV7IWR_8n7Ql_ib8eyzHu6zK_Z9BrpDEv6zK8V_AzqA97DZI6W0Dby8oiB9l-KdBNp__K95uHfU3fcAxt8jZ8UL-ShGtBDkg7x25C95Yf2b43lu5c3AE3CTx-yeD0A-5T9g1_9P66d78CFHh9aQEkhDdt8ZJ9XkDZgFif-JRA0l_KiCAtGL377O_xV4HXGAPAkqA7y6uz-2KAoPBGiDMmCsBBIv'},\n",
       "    'exact_indices': [[0, 13], [53, 58], [59, 72]]},\n",
       "   2.966433525085449],\n",
       "  [{'conceptual_indices': [[0, 22]],\n",
       "    'document': {'_id': 'uuid-8f9134d7dd5347069ea08f8c38a12ee3',\n",
       "     'fragments': [['alert|en', 'NOUN/T', [0, 6]],\n",
       "      ['notification|en', 'NOUN/T', [9, 22]],\n",
       "      ['previous|en', 'ADJ/T', [73, 81]],\n",
       "      ['version|en', 'NOUN/T', [82, 89]],\n",
       "      ['make|en', 'VERB/T', [176, 180]],\n",
       "      ['sure|en', 'ADJ/T', [181, 185]]],\n",
       "     'language': 'en',\n",
       "     'predict': {},\n",
       "     'source': {'type': 'Unknown'},\n",
       "     'subsets': ['__all__',\n",
       "      'Store + Rating: google 3',\n",
       "      'Star Rating: 3',\n",
       "      'Store: google',\n",
       "      \"Month: October '14\"],\n",
       "     'terms': [['alert|en notification|en', 'NOUN/T NOUN/T', [0, 22]],\n",
       "      ['use|en', 'VERB/T', [28, 31]],\n",
       "      ['work|en', 'VERB/T', [35, 39]],\n",
       "      ['love|en', 'VERB/T', [63, 68]],\n",
       "      ['previous|en version|en', 'ADJ/T NOUN/T', [73, 89]],\n",
       "      ['trouble|en', 'NOUN/T', [105, 112]],\n",
       "      ['shoot|en', 'VERB/T', [113, 121]],\n",
       "      ['notification|en', 'NOUN/T', [137, 150]],\n",
       "      ['not|en work|en', 'NEG/N VERB/T', [154, 162]],\n",
       "      ['make|en sure|en', 'VERB/T ADJ/T', [176, 185]],\n",
       "      ['app|en', 'NOUN/T', [190, 193]],\n",
       "      ['allow|en', 'VERB/T', [198, 205]],\n",
       "      ['notification|en', 'NOUN/T', [214, 227]]],\n",
       "     'text': \"alerts / notifications They use to work but now they don't.  I loved the previous version. I did all the trouble shooting....  still the notifications do not work.  And yes, I made sure the app was allowed to have notifications.\",\n",
       "     'title': \"3 stars, google, October '14\",\n",
       "     'vector': 'V9UMBTU4PvFYiA95B95C6G8j7EOH_y7rOnwVdOp-76eA3aExu-1G4fM-4p8UADBrMCf8hb-GgBklIpm9LKuCythQRpQyNUwk3ykHudbLNf9j49GAMLdB-6-hPp95H3pE0k5usrBcHKf4_N3Mo9DNBnP_wiBCv-URCux81pyb_VzFyGmHUq6FRySlY8LcYJD-qtC0MIoxRCJUZPgr8IF1zeoZvNtE3GHMX44pbHBjK53KLgAEQ691EoU4Asp6F7_P90nG7QGyctK7xYsJ6fAllEk22vTJgz1CRCW18hbBiiAed_26VxdulZCsF5Tv3wzAE8R8kJuQ1KazjQrEP6i83Yo1BAFT3L325CcG7tEzkBut8Ie3d_61ME0NETLOWxHaWzXR0jcCjTPbV4dKBY8-31K95Vsi0HxCJdBRjKK5A5ZFOi0qG1KZBoz6FhDb37V9FwW'},\n",
       "    'exact_indices': [[137, 150], [214, 227], [0, 6], [9, 22]]},\n",
       "   2.948937177658081]],\n",
       " 'search_vector': 'W_sfAEC8p9-d09MvBRt_IbCLlAGt_63OxYCXDCRA-Sf5T6-mBB7N4ziGBJA1YHH3AaWDVv-FPC3q7ep6ZY-0Z7zdCMs6S80p_DGN3tyFFD9YoFKQFX4-A6BZB8kX_jhErV4lb4LwH8J9ce3sF-3N9R8Bdv_a6Cch8Yr6ar7P-JV--pT-q0A8N1mUA0-ZmnFkwzjxHVC4yaChbENL5yX5cVzzUCwr4j5HxS9qRCBLKxIK0B-1y9WIBkg7XdypH5eD9maA3wE6r6uB8PCCLZAyF-d35k2AKn6h8COE832_P4CC29a-ILH5Kq96y9eZ6kq9pyFDZEeP8jn63I4k08qd32E9UUBG7CGy-DJCG8_979NV_9w8E_-bLAzDBSyD4VGFo8IN8g6B57EPE-oZAmb8oSCUbFll8yqAVh8nrDTH-MnBre8OO-j0AWe_SaDIm_vT_oW'}"
      ]
     },
     "execution_count": 106,
     "metadata": {},
     "output_type": "execute_result"
    }
   ],
   "source": [
    "#here we use a subset filter on which to do the search, and a total of 3 (limit) of docs results.\n",
    "#We get the total stats on the subset, and the full docs search as well. \n",
    "ping_count = client.get('docs/search', terms = vector_ping_terms, limit = 3, subset = chosen_subset)\n",
    "ping_count"
   ]
  },
  {
   "cell_type": "markdown",
   "metadata": {},
   "source": [
    "# -----------------------------Topics-Docs Correlations------------------------------"
   ]
  },
  {
   "cell_type": "markdown",
   "metadata": {},
   "source": [
    "## Using the topic document-counts endpoint (with or without a subset)"
   ]
  },
  {
   "cell_type": "code",
   "execution_count": 107,
   "metadata": {
    "collapsed": true
   },
   "outputs": [
    {
     "data": {
      "text/plain": [
       "{'ALERTS': {'num_exact_matches': 502, 'num_related_matches': 159},\n",
       " 'BANK OF AMERICA': {'num_exact_matches': 1716, 'num_related_matches': 86},\n",
       " 'BOA': {'num_exact_matches': 756, 'num_related_matches': 609},\n",
       " 'BofA': {'num_exact_matches': 455, 'num_related_matches': 0},\n",
       " \"Can't deposit checks\": {'num_exact_matches': 560,\n",
       "  'num_related_matches': 1650},\n",
       " 'Check deposit': {'num_exact_matches': 876, 'num_related_matches': 1315},\n",
       " 'Great app': {'num_exact_matches': 460, 'num_related_matches': 3038},\n",
       " 'NEGATIVE_SENTIMENT': {'num_exact_matches': 1080, 'num_related_matches': 163},\n",
       " 'NOTIFICATIONS': {'num_exact_matches': 502, 'num_related_matches': 159},\n",
       " 'PROBLEM DEPOSIT CHECKS': {'num_exact_matches': 560,\n",
       "  'num_related_matches': 1650},\n",
       " 'Please fix': {'num_exact_matches': 787, 'num_related_matches': 502},\n",
       " 'SENTIMENT_NEGATIVE': {'num_exact_matches': 1092, 'num_related_matches': 200},\n",
       " 'SENTIMENT_POSITIVE': {'num_exact_matches': 2975,\n",
       "  'num_related_matches': 1155},\n",
       " 'UPDATES': {'num_exact_matches': 1756, 'num_related_matches': 2710},\n",
       " 'WIFI': {'num_exact_matches': 138, 'num_related_matches': 631},\n",
       " 'alerts': {'num_exact_matches': 344, 'num_related_matches': 307},\n",
       " 'annoying': {'num_exact_matches': 221, 'num_related_matches': 613},\n",
       " 'bank': {'num_exact_matches': 2166, 'num_related_matches': 1408},\n",
       " 'camera': {'num_exact_matches': 476, 'num_related_matches': 1400},\n",
       " \"can't log\": {'num_exact_matches': 192, 'num_related_matches': 357},\n",
       " 'convenient': {'num_exact_matches': 267, 'num_related_matches': 2177},\n",
       " 'crashes': {'num_exact_matches': 556, 'num_related_matches': 788},\n",
       " 'error': {'num_exact_matches': 429, 'num_related_matches': 1326},\n",
       " 'feature': {'num_exact_matches': 686, 'num_related_matches': 0},\n",
       " 'fix': {'num_exact_matches': 2053, 'num_related_matches': 434},\n",
       " 'frustrating': {'num_exact_matches': 327, 'num_related_matches': 0},\n",
       " 'login': {'num_exact_matches': 223, 'num_related_matches': 205},\n",
       " 'new update': {'num_exact_matches': 527, 'num_related_matches': 317},\n",
       " 'password': {'num_exact_matches': 162, 'num_related_matches': 247},\n",
       " 'photo': {'num_exact_matches': 449, 'num_related_matches': 1491},\n",
       " 'screen': {'num_exact_matches': 1138, 'num_related_matches': 177},\n",
       " 'suggestions': {'num_exact_matches': 59, 'num_related_matches': 240},\n",
       " 'transactions': {'num_exact_matches': 250, 'num_related_matches': 1036},\n",
       " 'transfer': {'num_exact_matches': 482, 'num_related_matches': 1434},\n",
       " 'tried': {'num_exact_matches': 1596, 'num_related_matches': 1512},\n",
       " 'try to deposit a check': {'num_exact_matches': 150,\n",
       "  'num_related_matches': 118},\n",
       " 'upgrade': {'num_exact_matches': 366, 'num_related_matches': 2991},\n",
       " 'use this app': {'num_exact_matches': 537, 'num_related_matches': 3207},\n",
       " 'useless': {'num_exact_matches': 296, 'num_related_matches': 180}}"
      ]
     },
     "execution_count": 107,
     "metadata": {},
     "output_type": "execute_result"
    }
   ],
   "source": [
    "#Get topic document-counts\n",
    "topics_docs_counts = client.get('topics/doc_counts', format='json')\n",
    "topics_docs_counts2 = substitute_keys_in_dict(topics_docs_counts, id_topicnames_table)\n",
    "topics_docs_counts2"
   ]
  },
  {
   "cell_type": "code",
   "execution_count": 109,
   "metadata": {
    "collapsed": true
   },
   "outputs": [
    {
     "name": "stdout",
     "output_type": "stream",
     "text": [
      "Subset = Store: google\n"
     ]
    },
    {
     "data": {
      "text/plain": [
       "{'ALERTS': {'num_exact_matches': 206, 'num_related_matches': 137},\n",
       " 'BANK OF AMERICA': {'num_exact_matches': 1453, 'num_related_matches': 78},\n",
       " 'BOA': {'num_exact_matches': 633, 'num_related_matches': 535},\n",
       " 'BofA': {'num_exact_matches': 375, 'num_related_matches': 0},\n",
       " \"Can't deposit checks\": {'num_exact_matches': 523,\n",
       "  'num_related_matches': 1459},\n",
       " 'Check deposit': {'num_exact_matches': 738, 'num_related_matches': 1227},\n",
       " 'Great app': {'num_exact_matches': 386, 'num_related_matches': 2512},\n",
       " 'NEGATIVE_SENTIMENT': {'num_exact_matches': 864, 'num_related_matches': 120},\n",
       " 'NOTIFICATIONS': {'num_exact_matches': 206, 'num_related_matches': 137},\n",
       " 'PROBLEM DEPOSIT CHECKS': {'num_exact_matches': 523,\n",
       "  'num_related_matches': 1459},\n",
       " 'Please fix': {'num_exact_matches': 632, 'num_related_matches': 449},\n",
       " 'SENTIMENT_NEGATIVE': {'num_exact_matches': 822, 'num_related_matches': 151},\n",
       " 'SENTIMENT_POSITIVE': {'num_exact_matches': 2468, 'num_related_matches': 954},\n",
       " 'UPDATES': {'num_exact_matches': 1459, 'num_related_matches': 2269},\n",
       " 'WIFI': {'num_exact_matches': 136, 'num_related_matches': 619},\n",
       " 'alerts': {'num_exact_matches': 122, 'num_related_matches': 213},\n",
       " 'annoying': {'num_exact_matches': 132, 'num_related_matches': 351},\n",
       " 'bank': {'num_exact_matches': 1860, 'num_related_matches': 1157},\n",
       " 'camera': {'num_exact_matches': 417, 'num_related_matches': 1189},\n",
       " \"can't log\": {'num_exact_matches': 167, 'num_related_matches': 313},\n",
       " 'convenient': {'num_exact_matches': 231, 'num_related_matches': 1792},\n",
       " 'crashes': {'num_exact_matches': 398, 'num_related_matches': 747},\n",
       " 'error': {'num_exact_matches': 382, 'num_related_matches': 1231},\n",
       " 'feature': {'num_exact_matches': 494, 'num_related_matches': 0},\n",
       " 'fix': {'num_exact_matches': 1695, 'num_related_matches': 338},\n",
       " 'frustrating': {'num_exact_matches': 263, 'num_related_matches': 0},\n",
       " 'login': {'num_exact_matches': 154, 'num_related_matches': 70},\n",
       " 'new update': {'num_exact_matches': 443, 'num_related_matches': 285},\n",
       " 'password': {'num_exact_matches': 129, 'num_related_matches': 193},\n",
       " 'photo': {'num_exact_matches': 368, 'num_related_matches': 1315},\n",
       " 'screen': {'num_exact_matches': 1025, 'num_related_matches': 155},\n",
       " 'suggestions': {'num_exact_matches': 46, 'num_related_matches': 227},\n",
       " 'transactions': {'num_exact_matches': 190, 'num_related_matches': 798},\n",
       " 'transfer': {'num_exact_matches': 347, 'num_related_matches': 1195},\n",
       " 'tried': {'num_exact_matches': 1381, 'num_related_matches': 1239},\n",
       " 'try to deposit a check': {'num_exact_matches': 110,\n",
       "  'num_related_matches': 83},\n",
       " 'upgrade': {'num_exact_matches': 327, 'num_related_matches': 2822},\n",
       " 'use this app': {'num_exact_matches': 468, 'num_related_matches': 2680},\n",
       " 'useless': {'num_exact_matches': 244, 'num_related_matches': 138}}"
      ]
     },
     "execution_count": 109,
     "metadata": {},
     "output_type": "execute_result"
    }
   ],
   "source": [
    "#Get topic document-counts WITH a Subset\n",
    "print('Subset =', chosen_subset)\n",
    "topics_docs_counts_Subset = client.get('topics/doc_counts', format='json', subset=chosen_subset)\n",
    "topics_docs_counts_Subset2 = substitute_keys_in_dict(topics_docs_counts_Subset, id_topicnames_table)\n",
    "topics_docs_counts_Subset2"
   ]
  },
  {
   "cell_type": "markdown",
   "metadata": {},
   "source": [
    "## Finding the topic correlations on a new text"
   ]
  },
  {
   "cell_type": "code",
   "execution_count": 111,
   "metadata": {
    "collapsed": true
   },
   "outputs": [
    {
     "name": "stdout",
     "output_type": "stream",
     "text": [
      "This phone app does some weird connection on my internet\n"
     ]
    },
    {
     "data": {
      "text/plain": [
       "{'ALERTS': -0.06053338944911957,\n",
       " 'BANK OF AMERICA': -0.0362393818795681,\n",
       " 'BOA': -0.06915919482707977,\n",
       " 'BofA': 0.014693738892674446,\n",
       " \"Can't deposit checks\": -0.07225238531827927,\n",
       " 'Check deposit': -0.10613860934972763,\n",
       " 'Great app': 0.06916370242834091,\n",
       " 'NEGATIVE_SENTIMENT': 0.10409155488014221,\n",
       " 'NOTIFICATIONS': -0.06053338944911957,\n",
       " 'PROBLEM DEPOSIT CHECKS': -0.07225238531827927,\n",
       " 'Please fix': 0.2924363613128662,\n",
       " 'SENTIMENT_NEGATIVE': 0.08079162240028381,\n",
       " 'SENTIMENT_POSITIVE': -0.017181849107146263,\n",
       " 'UPDATES': 0.17939557135105133,\n",
       " 'WIFI': 0.7801828384399414,\n",
       " 'alerts': -0.07981892675161362,\n",
       " 'annoying': 0.015189670026302338,\n",
       " 'bank': -0.11824480444192886,\n",
       " 'camera': -0.12318222969770432,\n",
       " \"can't log\": 0.3530781865119934,\n",
       " 'convenient': -0.03040151484310627,\n",
       " 'crashes': 0.28705111145973206,\n",
       " 'error': 0.31660082936286926,\n",
       " 'feature': -0.18103653192520142,\n",
       " 'fix': 0.050755374133586884,\n",
       " 'frustrating': -0.0057780323550105095,\n",
       " 'login': 0.04990636184811592,\n",
       " 'new update': 0.16713394224643707,\n",
       " 'password': -0.06414251029491425,\n",
       " 'photo': -0.2531949579715729,\n",
       " 'screen': 0.007431935518980026,\n",
       " 'suggestions': -0.00024284316168632358,\n",
       " 'transactions': -0.230845645070076,\n",
       " 'transfer': -0.29958826303482056,\n",
       " 'tried': 0.042037852108478546,\n",
       " 'try to deposit a check': -0.061884719878435135,\n",
       " 'upgrade': 0.13492074608802795,\n",
       " 'use this app': 0.10128818452358246,\n",
       " 'useless': 0.028734758496284485}"
      ]
     },
     "execution_count": 111,
     "metadata": {},
     "output_type": "execute_result"
    }
   ],
   "source": [
    "#Get topic correlation to text\n",
    "newtext = 'This phone app does some weird connection on my internet'\n",
    "newdoc_topics_correl = client.put('topics/text_correlation/', text = newtext )\n",
    "newdoc_topics_correl2 = substitute_keys_in_dict(newdoc_topics_correl, id_topicnames_table)\n",
    "print(newtext)\n",
    "newdoc_topics_correl2"
   ]
  },
  {
   "cell_type": "code",
   "execution_count": 114,
   "metadata": {
    "collapsed": true
   },
   "outputs": [
    {
     "name": "stdout",
     "output_type": "stream",
     "text": [
      "the app is bloody good, can't wait to see the new features\n"
     ]
    },
    {
     "data": {
      "text/plain": [
       "{'ALERTS': -0.06875639408826828,\n",
       " 'BANK OF AMERICA': 0.11251402646303177,\n",
       " 'BOA': 0.019798260182142258,\n",
       " 'BofA': 0.147403746843338,\n",
       " \"Can't deposit checks\": 0.019274752587080002,\n",
       " 'Check deposit': 0.12782686948776245,\n",
       " 'Great app': 0.49705883860588074,\n",
       " 'NEGATIVE_SENTIMENT': 0.15367378294467926,\n",
       " 'NOTIFICATIONS': -0.06875639408826828,\n",
       " 'PROBLEM DEPOSIT CHECKS': 0.019274752587080002,\n",
       " 'Please fix': -0.3536641001701355,\n",
       " 'SENTIMENT_NEGATIVE': 0.12595346570014954,\n",
       " 'SENTIMENT_POSITIVE': 0.6096550822257996,\n",
       " 'UPDATES': 0.28686970472335815,\n",
       " 'WIFI': -0.12376441061496735,\n",
       " 'alerts': -0.08077340573072433,\n",
       " 'annoying': -0.05109289288520813,\n",
       " 'bank': 0.139847993850708,\n",
       " 'camera': 0.0010686502791941166,\n",
       " \"can't log\": -0.2687162756919861,\n",
       " 'convenient': 0.3232533931732178,\n",
       " 'crashes': -0.0937182754278183,\n",
       " 'error': -0.304455041885376,\n",
       " 'feature': 0.7196014523506165,\n",
       " 'fix': -0.07081860303878784,\n",
       " 'frustrating': -0.14352935552597046,\n",
       " 'login': 0.03525347635149956,\n",
       " 'new update': 0.28038087487220764,\n",
       " 'password': -0.21779917180538177,\n",
       " 'photo': -0.11732811480760574,\n",
       " 'screen': -0.21637271344661713,\n",
       " 'suggestions': -0.06626609712839127,\n",
       " 'transactions': 0.14277447760105133,\n",
       " 'transfer': -0.07408559322357178,\n",
       " 'tried': -0.4656997621059418,\n",
       " 'try to deposit a check': -0.14576955139636993,\n",
       " 'upgrade': 0.12446822971105576,\n",
       " 'use this app': 0.0009912238456308842,\n",
       " 'useless': 0.06749584525823593}"
      ]
     },
     "execution_count": 114,
     "metadata": {},
     "output_type": "execute_result"
    }
   ],
   "source": [
    "newtext = \"the app is bloody good, can't wait to see the new features\"\n",
    "newdoc_topics_correl = client.put('topics/text_correlation/', text = newtext )\n",
    "newdoc_topics_correl2 = substitute_keys_in_dict(newdoc_topics_correl, id_topicnames_table)\n",
    "print(newtext)\n",
    "newdoc_topics_correl2"
   ]
  },
  {
   "cell_type": "markdown",
   "metadata": {},
   "source": [
    "## Getting all the docs-topics correlations"
   ]
  },
  {
   "cell_type": "code",
   "execution_count": 115,
   "metadata": {},
   "outputs": [
    {
     "data": {
      "text/plain": [
       "12014"
      ]
     },
     "execution_count": 115,
     "metadata": {},
     "output_type": "execute_result"
    }
   ],
   "source": [
    "#for each document, this gives the topics-document correlations\n",
    "docs_topics_correl = client.get('docs/correlations')\n",
    "len(docs_topics_correl)"
   ]
  },
  {
   "cell_type": "code",
   "execution_count": 116,
   "metadata": {},
   "outputs": [
    {
     "name": "stdout",
     "output_type": "stream",
     "text": [
      "uuid-3395ea1fbdd44d8f82e164f7790fd95d\n"
     ]
    },
    {
     "data": {
      "text/plain": [
       "\" After awhile it doesn't load just says not able to connect to network and I have plenty of internet\""
      ]
     },
     "execution_count": 116,
     "metadata": {},
     "output_type": "execute_result"
    }
   ],
   "source": [
    "nbr = 45\n",
    "print(DOCS[nbr]['_id'])\n",
    "DOCS[nbr]['text']"
   ]
  },
  {
   "cell_type": "code",
   "execution_count": 118,
   "metadata": {
    "scrolled": true
   },
   "outputs": [
    {
     "data": {
      "text/plain": [
       "{'ALERTS': -0.0772978812456131,\n",
       " 'BANK OF AMERICA': -0.15700112283229828,\n",
       " 'BOA': -0.1342533677816391,\n",
       " 'BofA': -0.09616976231336594,\n",
       " \"Can't deposit checks\": -0.09216569364070892,\n",
       " 'Check deposit': -0.14812394976615906,\n",
       " 'Great app': -0.07508641481399536,\n",
       " 'NOTIFICATIONS': -0.0772978812456131,\n",
       " 'PROBLEM DEPOSIT CHECKS': -0.09216569364070892,\n",
       " 'Please fix': 0.3117063343524933,\n",
       " 'SENTIMENT_NEGATIVE': 0.05104958266019821,\n",
       " 'SENTIMENT_POSITIVE': -0.1344742625951767,\n",
       " 'UPDATES': -0.13034775853157043,\n",
       " 'WIFI': 0.903376579284668,\n",
       " 'annoying': 0.03412872925400734,\n",
       " 'bank': -0.1839921921491623,\n",
       " 'camera': -0.21105052530765533,\n",
       " \"can't log\": 0.46726369857788086,\n",
       " 'convenient': -0.11498216539621353,\n",
       " 'crashes': 0.052563201636075974,\n",
       " 'error': 0.5919801592826843,\n",
       " 'feature': -0.2276753932237625,\n",
       " 'fix': 0.003863133257254958,\n",
       " 'frustrating': 0.12944167852401733,\n",
       " 'login': 0.06471552699804306,\n",
       " 'new update': -0.054524946957826614,\n",
       " 'password': 0.015200857073068619,\n",
       " 'photo': -0.09640734642744064,\n",
       " 'screen': 0.01617661863565445,\n",
       " 'suggestions': 0.0007432068232446909,\n",
       " 'transactions': -0.08651967346668243,\n",
       " 'transfer': -0.13947536051273346,\n",
       " 'tried': 0.1287136822938919,\n",
       " 'try to deposit a check': 0.04305395111441612,\n",
       " 'upgrade': -0.10894206166267395,\n",
       " 'use this app': -0.029018135741353035,\n",
       " 'useless': -0.08683557063341141}"
      ]
     },
     "execution_count": 118,
     "metadata": {},
     "output_type": "execute_result"
    }
   ],
   "source": [
    "one_doc_tc = docs_topics_correl['uuid-3395ea1fbdd44d8f82e164f7790fd95d']\n",
    "one_doc_tc2 = substitute_keys_in_dict(one_doc_tc, id_topicnames_table)\n",
    "one_doc_tc2"
   ]
  },
  {
   "cell_type": "markdown",
   "metadata": {},
   "source": [
    "# ------------------------ NEW PROJECTS & DOCS UPLOAD ----------------------"
   ]
  },
  {
   "cell_type": "markdown",
   "metadata": {},
   "source": [
    "## Loading data from a CSV"
   ]
  },
  {
   "cell_type": "code",
   "execution_count": 119,
   "metadata": {},
   "outputs": [
    {
     "name": "stdout",
     "output_type": "stream",
     "text": [
      "Data loaded from file:   API-TRAINING_BoA_docs_for_upload_(sample).csv\n"
     ]
    }
   ],
   "source": [
    "data_file_for_upload = 'API-TRAINING_BoA_docs_for_upload_(sample).csv'\n",
    "data_input = load_from_CSV(data_file_for_upload)"
   ]
  },
  {
   "cell_type": "code",
   "execution_count": 120,
   "metadata": {},
   "outputs": [
    {
     "data": {
      "text/plain": [
       "100"
      ]
     },
     "execution_count": 120,
     "metadata": {},
     "output_type": "execute_result"
    }
   ],
   "source": [
    "len(data_input)"
   ]
  },
  {
   "cell_type": "code",
   "execution_count": 121,
   "metadata": {},
   "outputs": [
    {
     "data": {
      "text/plain": [
       "OrderedDict([('Month', \"January '15\"),\n",
       "             ('Store', 'google'),\n",
       "             ('Star Rating', '4'),\n",
       "             ('Store + Rating', 'google 4'),\n",
       "             ('title', \"4 stars, google, January '15\"),\n",
       "             ('text',\n",
       "              \"BofA Review. Now that I have installed the BofA app how do Iopen it?  I don't see any icon like I had before,  when I had the app that I can push to bring me to the bank site.\"),\n",
       "             ('date', '21/01/2015')])"
      ]
     },
     "execution_count": 121,
     "metadata": {},
     "output_type": "execute_result"
    }
   ],
   "source": [
    "data_input[0]"
   ]
  },
  {
   "cell_type": "code",
   "execution_count": 122,
   "metadata": {},
   "outputs": [],
   "source": [
    "#get the data into the correct JSON format for upload, including subsets syntax:\n",
    "data_for_upload = []\n",
    "for d in data_input:\n",
    "    obj = {}\n",
    "    obj['text'] = d['text']\n",
    "    obj['title'] = d['title']\n",
    "    obj['date'] = extract_formatted_date(d['date'], DATE_FORMAT_ISO)\n",
    "    obj['subsets'] = ['Month: ' + d['Month'], \n",
    "                      'Store: ' + d['Store'],\n",
    "                      'Star Rating: ' + d['Star Rating'],\n",
    "                      'Store + Rating: ' + d['Store + Rating'] ]\n",
    "    obj['language'] = 'en'\n",
    "    data_for_upload.append(obj)"
   ]
  },
  {
   "cell_type": "code",
   "execution_count": 123,
   "metadata": {},
   "outputs": [
    {
     "data": {
      "text/plain": [
       "{'date': None,\n",
       " 'language': 'en',\n",
       " 'subsets': [\"Month: January '15\",\n",
       "  'Store: google',\n",
       "  'Star Rating: 4',\n",
       "  'Store + Rating: google 4'],\n",
       " 'text': \"BofA Review. Now that I have installed the BofA app how do Iopen it?  I don't see any icon like I had before,  when I had the app that I can push to bring me to the bank site.\",\n",
       " 'title': \"4 stars, google, January '15\"}"
      ]
     },
     "execution_count": 123,
     "metadata": {},
     "output_type": "execute_result"
    }
   ],
   "source": [
    "data_for_upload[0]"
   ]
  },
  {
   "cell_type": "markdown",
   "metadata": {},
   "source": [
    "## Creating a New Project"
   ]
  },
  {
   "cell_type": "code",
   "execution_count": 124,
   "metadata": {},
   "outputs": [
    {
     "name": "stdout",
     "output_type": "stream",
     "text": [
      "Project created: Example New Project (API training)\n"
     ]
    }
   ],
   "source": [
    "new_project_name = 'Example New Project (API training)'\n",
    "\n",
    "# Create a new project\n",
    "new_project = account_client.post(name = new_project_name)\n",
    "new_project_client = account_client.change_path(new_project['project_id'])\n",
    "\n",
    "new_project_client.upload('docs', data_for_upload)\n",
    "print('Project created: ' +  new_project['name'])"
   ]
  },
  {
   "cell_type": "code",
   "execution_count": 125,
   "metadata": {},
   "outputs": [
    {
     "data": {
      "text/plain": [
       "1"
      ]
     },
     "execution_count": 125,
     "metadata": {},
     "output_type": "execute_result"
    }
   ],
   "source": [
    "jobID = new_project_client.post('docs/recalculate', language='en')\n",
    "jobID"
   ]
  },
  {
   "cell_type": "code",
   "execution_count": null,
   "metadata": {},
   "outputs": [],
   "source": []
  }
 ],
 "metadata": {
  "kernelspec": {
   "display_name": "Python 3",
   "language": "python",
   "name": "python3"
  },
  "language_info": {
   "codemirror_mode": {
    "name": "ipython",
    "version": 3
   },
   "file_extension": ".py",
   "mimetype": "text/x-python",
   "name": "python",
   "nbconvert_exporter": "python",
   "pygments_lexer": "ipython3",
   "version": "3.6.5"
  }
 },
 "nbformat": 4,
 "nbformat_minor": 2
}
