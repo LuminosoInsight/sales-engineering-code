{
 "cells": [
  {
   "cell_type": "code",
   "execution_count": 25,
   "metadata": {},
   "outputs": [
    {
     "name": "stdout",
     "output_type": "stream",
     "text": [
      "Loading Testing & Training documents...\n",
      "No classifier found in /Users/kwang/Documents/Classifiers/AthenaHealth/.\n",
      "Training classifier...\n",
      "Testing classifier...\n",
      "Test Accuracy:96.30%\n"
     ]
    }
   ],
   "source": [
    "%run run_voting_classifier.py x33t677d prw7kpf2 prw7kpf2 AttritionFlag unclassified -p ~/Documents/Classifiers/AthenaHealth/ -s"
   ]
  },
  {
   "cell_type": "code",
   "execution_count": null,
   "metadata": {
    "collapsed": true
   },
   "outputs": [],
   "source": []
  }
 ],
 "metadata": {
  "kernelspec": {
   "display_name": "Python 3",
   "language": "python",
   "name": "python3"
  },
  "language_info": {
   "codemirror_mode": {
    "name": "ipython",
    "version": 3
   },
   "file_extension": ".py",
   "mimetype": "text/x-python",
   "name": "python",
   "nbconvert_exporter": "python",
   "pygments_lexer": "ipython3",
   "version": "3.6.1"
  }
 },
 "nbformat": 4,
 "nbformat_minor": 2
}
