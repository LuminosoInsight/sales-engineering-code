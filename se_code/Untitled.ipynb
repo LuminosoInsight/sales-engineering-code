{
 "cells": [
  {
   "cell_type": "code",
   "execution_count": 48,
   "metadata": {},
   "outputs": [
    {
     "name": "stdout",
     "output_type": "stream",
     "text": [
      "Loading Testing & Training documents...\n",
      "No classifier found in /Users/kwang/Documents/Classifiers/AthenaHealth/Half.\n",
      "Training classifier...\n",
      "Testing classifier...\n",
      "Test Accuracy:94.81%\n"
     ]
    }
   ],
   "source": [
    "split = .5\n",
    "%run run_voting_classifier.py d53m338v prjz5vm6 prjz5vm6 AttritionFlag unclassified -z $split -p ~/Documents/Classifiers/AthenaHealth/Half -s\n"
   ]
  },
  {
   "cell_type": "code",
   "execution_count": 30,
   "metadata": {
    "collapsed": true
   },
   "outputs": [],
   "source": [
    "from luminoso_api import LuminosoClient\n",
    "import json"
   ]
  },
  {
   "cell_type": "code",
   "execution_count": 31,
   "metadata": {
    "collapsed": true
   },
   "outputs": [],
   "source": [
    "client = LuminosoClient.connect('/')"
   ]
  },
  {
   "cell_type": "code",
   "execution_count": 32,
   "metadata": {
    "collapsed": true
   },
   "outputs": [],
   "source": [
    "client = client.change_path('/projects/d53m338v/prjz5vm6')"
   ]
  },
  {
   "cell_type": "code",
   "execution_count": 33,
   "metadata": {
    "collapsed": true
   },
   "outputs": [],
   "source": [
    "docs = client.get('docs', limit=25000)"
   ]
  },
  {
   "cell_type": "code",
   "execution_count": 34,
   "metadata": {
    "collapsed": true
   },
   "outputs": [],
   "source": [
    "docs_to_delete = []\n",
    "length = len('NPS Score: ')\n",
    "for i in range(0, len(docs)):\n",
    "    for j in range(0, len(docs[i]['subsets'])):\n",
    "        if 'NPS Score: ' in docs[i]['subsets'][j]:\n",
    "            if 'NULL' in docs[i]['subsets'][j]:\n",
    "                docs_to_delete.append(docs[i]['_id'])\n",
    "            #print(docs[i]['subsets'][j][length])\n",
    "            elif int(docs[i]['subsets'][j][length]) >= 7 or int(docs[i]['subsets'][j][length:length+2]) == 10:\n",
    "                docs_to_delete.append(docs[i]['_id'])"
   ]
  },
  {
   "cell_type": "code",
   "execution_count": 35,
   "metadata": {},
   "outputs": [
    {
     "name": "stdout",
     "output_type": "stream",
     "text": [
      "0\n",
      "1\n",
      "2\n",
      "3\n",
      "4\n",
      "5\n"
     ]
    },
    {
     "data": {
      "text/plain": [
       "'OK'"
      ]
     },
     "execution_count": 35,
     "metadata": {},
     "output_type": "execute_result"
    }
   ],
   "source": [
    "docs_id = json.dumps(docs_to_delete)\n",
    "for i in range(0, int(len(docs_to_delete) / 600)):\n",
    "    print(i)\n",
    "    client.delete('docs', ids=docs_to_delete[i * 600: (i + 1) * 600])\n",
    "client.delete('docs', ids=docs_to_delete[int(len(docs_to_delete) / 600) * 600:len(docs_to_delete)])"
   ]
  },
  {
   "cell_type": "code",
   "execution_count": 36,
   "metadata": {},
   "outputs": [
    {
     "data": {
      "text/plain": [
       "4"
      ]
     },
     "execution_count": 36,
     "metadata": {},
     "output_type": "execute_result"
    }
   ],
   "source": [
    "client.post('docs/recalculate')"
   ]
  },
  {
   "cell_type": "code",
   "execution_count": 26,
   "metadata": {
    "collapsed": true
   },
   "outputs": [],
   "source": [
    "arr = 'yoyoyo'"
   ]
  },
  {
   "cell_type": "code",
   "execution_count": 28,
   "metadata": {},
   "outputs": [
    {
     "data": {
      "text/plain": [
       "'y'"
      ]
     },
     "execution_count": 28,
     "metadata": {},
     "output_type": "execute_result"
    }
   ],
   "source": [
    "arr[2:3]"
   ]
  },
  {
   "cell_type": "code",
   "execution_count": null,
   "metadata": {
    "collapsed": true
   },
   "outputs": [],
   "source": []
  }
 ],
 "metadata": {
  "kernelspec": {
   "display_name": "Python 3",
   "language": "python",
   "name": "python3"
  },
  "language_info": {
   "codemirror_mode": {
    "name": "ipython",
    "version": 3
   },
   "file_extension": ".py",
   "mimetype": "text/x-python",
   "name": "python",
   "nbconvert_exporter": "python",
   "pygments_lexer": "ipython3",
   "version": "3.6.1"
  }
 },
 "nbformat": 4,
 "nbformat_minor": 2
}
