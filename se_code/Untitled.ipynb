{
 "cells": [
  {
   "cell_type": "code",
   "execution_count": null,
   "metadata": {
    "collapsed": true
   },
   "outputs": [],
   "source": [
    "from luminoso_api import LuminosoClient\n",
    "from pack64 import unpack64\n",
    "from tableau_export import pull_lumi_data\n",
    "\n",
    "import numpy as np"
   ]
  },
  {
   "cell_type": "code",
   "execution_count": null,
   "metadata": {
    "collapsed": true
   },
   "outputs": [],
   "source": [
    "client, docs, topics, terms, subsets, drivers, skt, themes = pull_lumi_data('d53m338v', 'pr3n28bw')"
   ]
  },
  {
   "cell_type": "code",
   "execution_count": null,
   "metadata": {
    "collapsed": true
   },
   "outputs": [],
   "source": [
    "print(len(unpack64(topics[0]['vector'])))"
   ]
  },
  {
   "cell_type": "code",
   "execution_count": null,
   "metadata": {
    "collapsed": true
   },
   "outputs": [],
   "source": [
    "print(len(unpack64(docs[0]['vector'])))"
   ]
  },
  {
   "cell_type": "code",
   "execution_count": null,
   "metadata": {
    "collapsed": true
   },
   "outputs": [],
   "source": [
    "np.dot(unpack64(topics[0]['vector']), unpack64(docs[0]['vector']))"
   ]
  },
  {
   "cell_type": "code",
   "execution_count": null,
   "metadata": {
    "collapsed": true
   },
   "outputs": [],
   "source": [
    "len(terms)"
   ]
  },
  {
   "cell_type": "code",
   "execution_count": null,
   "metadata": {
    "collapsed": true
   },
   "outputs": [],
   "source": [
    "topics[0]"
   ]
  },
  {
   "cell_type": "code",
   "execution_count": null,
   "metadata": {
    "collapsed": true
   },
   "outputs": [],
   "source": [
    "%run tableau_export.py d53m338v pr3n28bw -t 150"
   ]
  },
  {
   "cell_type": "code",
   "execution_count": null,
   "metadata": {
    "collapsed": true
   },
   "outputs": [],
   "source": [
    "docs = client.get('docs')"
   ]
  },
  {
   "cell_type": "code",
   "execution_count": null,
   "metadata": {
    "collapsed": true
   },
   "outputs": [],
   "source": [
    "docs[0]"
   ]
  },
  {
   "cell_type": "code",
   "execution_count": 1,
   "metadata": {},
   "outputs": [
    {
     "name": "stdout",
     "output_type": "stream",
     "text": [
      "Extracting Lumi data...\n",
      "Creating doc table...\n"
     ]
    },
    {
     "name": "stderr",
     "output_type": "stream",
     "text": [
      "/usr/local/lib/python3.6/site-packages/se_code-0.1-py3.6.egg/se_code/fuzzy_logic.py:38: RuntimeWarning: invalid value encountered in double_scalars\n"
     ]
    },
    {
     "name": "stdout",
     "output_type": "stream",
     "text": [
      "Writing to file doc_table.csv.\n",
      "Writing to file xref_table.csv.\n",
      "Creating themes table...\n",
      "Writing to file themes_table.csv.\n",
      "Creating subset key terms table...\n",
      "Writing to file skt_table.csv.\n",
      "Writing to file drivers_table.csv.\n",
      "Warning: No data to write to drivers_table.csv.\n",
      "Writing to file trends_table.csv.\n",
      "Writing to file trendingterms_table.csv.\n"
     ]
    }
   ],
   "source": [
    "%run tableau_export.py demo qdwr5"
   ]
  },
  {
   "cell_type": "code",
   "execution_count": null,
   "metadata": {
    "collapsed": true
   },
   "outputs": [],
   "source": []
  },
  {
   "cell_type": "code",
   "execution_count": 32,
   "metadata": {
    "collapsed": true
   },
   "outputs": [],
   "source": [
    "client = LuminosoClient.connect('/')\n",
    "\n",
    "client = client.change_path('/projects/d53m338v/prv28wdf')\n",
    "\n",
    "subsets = client.get('subsets/stats')\n",
    "\n",
    "subsets\n",
    "\n",
    "subsets_to_remove = []\n",
    "for subset in subsets:\n",
    "    if subset['count'] < 150:\n",
    "        subsets_to_remove.append(subset['subset'])\n",
    "\n",
    "docs = []\n",
    "while True:\n",
    "    new_docs = client.get('docs', limit=25000, offset=len(docs))\n",
    "    if new_docs:\n",
    "        docs.extend(new_docs)\n",
    "    else:\n",
    "        break\n",
    "\n",
    "for doc in docs:\n",
    "    subset = []\n",
    "    for doc_subset in doc['subsets']:\n",
    "        if doc_subset not in subsets_to_remove:\n",
    "            subset.append(doc_subset)\n",
    "    doc['subsets'] = subset\n",
    "        \n",
    "\n",
    "client = LuminosoClient.connect()\n",
    "proj_id = client.post(name='AT Kearney Glacier NP Reviews')['project_id']\n",
    "client = client.change_path(proj_id)\n",
    "batch = 0\n",
    "batch_size = 10000\n",
    "total_size = len(docs)\n",
    "while batch < total_size:\n",
    "    end = min(total_size, batch + batch_size)\n",
    "    client.upload('docs', docs=docs[batch:end])\n",
    "    batch += batch_size\n",
    "client.post('docs/recalculate')"
   ]
  },
  {
   "cell_type": "code",
   "execution_count": null,
   "metadata": {
    "collapsed": true
   },
   "outputs": [],
   "source": []
  }
 ],
 "metadata": {
  "kernelspec": {
   "display_name": "Python 3",
   "language": "python",
   "name": "python3"
  },
  "language_info": {
   "codemirror_mode": {
    "name": "ipython",
    "version": 3
   },
   "file_extension": ".py",
   "mimetype": "text/x-python",
   "name": "python",
   "nbconvert_exporter": "python",
   "pygments_lexer": "ipython3",
   "version": "3.6.1"
  }
 },
 "nbformat": 4,
 "nbformat_minor": 2
}
