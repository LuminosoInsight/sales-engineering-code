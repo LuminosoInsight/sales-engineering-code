{
 "cells": [
  {
   "cell_type": "code",
   "execution_count": 10,
   "metadata": {},
   "outputs": [],
   "source": [
    "from luminoso_api import LuminosoClient\n",
    "from pack64 import unpack64\n",
    "from tableau_export import pull_lumi_data\n",
    "\n",
    "import numpy as np"
   ]
  },
  {
   "cell_type": "code",
   "execution_count": 2,
   "metadata": {},
   "outputs": [
    {
     "name": "stdout",
     "output_type": "stream",
     "text": [
      "Extracting Lumi data...\n"
     ]
    },
    {
     "name": "stderr",
     "output_type": "stream",
     "text": [
      "\tWaiting for recalculation (120sec)"
     ]
    },
    {
     "name": "stdout",
     "output_type": "stream",
     "text": [
      "Done recalculating. Training...\n",
      "Done training.\n"
     ]
    }
   ],
   "source": [
    "client, docs, topics, terms, subsets, drivers, skt, themes = pull_lumi_data('d53m338v', 'pr3n28bw')"
   ]
  },
  {
   "cell_type": "code",
   "execution_count": 6,
   "metadata": {},
   "outputs": [
    {
     "name": "stdout",
     "output_type": "stream",
     "text": [
      "150\n"
     ]
    }
   ],
   "source": [
    "print(len(unpack64(topics[0]['vector'])))"
   ]
  },
  {
   "cell_type": "code",
   "execution_count": 8,
   "metadata": {},
   "outputs": [
    {
     "name": "stdout",
     "output_type": "stream",
     "text": [
      "150\n"
     ]
    }
   ],
   "source": [
    "print(len(unpack64(docs[0]['vector'])))"
   ]
  },
  {
   "cell_type": "code",
   "execution_count": 11,
   "metadata": {},
   "outputs": [
    {
     "data": {
      "text/plain": [
       "0.18078466"
      ]
     },
     "execution_count": 11,
     "metadata": {},
     "output_type": "execute_result"
    }
   ],
   "source": [
    "np.dot(unpack64(topics[0]['vector']), unpack64(docs[0]['vector']))"
   ]
  },
  {
   "cell_type": "code",
   "execution_count": 15,
   "metadata": {},
   "outputs": [
    {
     "data": {
      "text/plain": [
       "1000"
      ]
     },
     "execution_count": 15,
     "metadata": {},
     "output_type": "execute_result"
    }
   ],
   "source": [
    "len(terms)"
   ]
  },
  {
   "cell_type": "code",
   "execution_count": 14,
   "metadata": {},
   "outputs": [
    {
     "data": {
      "text/plain": [
       "{'_id': 'f72399a7-fd49-44c7-92aa-a475b66f20ad',\n",
       " 'color': '#00aaff',\n",
       " 'name': 'drinks',\n",
       " 'text': 'drinks',\n",
       " 'vector': 'W-lt_v-JFk9BCATj5mCBLN6w6B2OMqy30-AFf5Wk_gI3WXIR868-HAL-UVK0d8QdBZoC0PyTwzbVRyQ3739QqEefA_2A1L6ovBRuASA4s5C-g5nR2CM9ky8hE_iwPSA5Kw9o38P6HP26wcA4SBEBDT7E5zO2C8RuA6J_tA-AADve9qTEZD5KWKgHArJBDZHky2GSGtI8-43sS8ja4ek_uD53K_7j_e5Ep3D4V-_D3lD5QOH4tDRbD3_E2D-A1_lY5NQH89CVJBWVA2_AZN_4T6XGGPbBTVD0j-5O_rc8dhBev-uz_1LDEz-D_EEIBQB-_CCdx63d7yS-vZ86--L0BSZDgIE0A9eKGId-Ku-Xb6hvEkSBjO64ABmJ6NZDBj_JGBSH6cU_FBA8FAk84e8-eF9KK6ZzAee-MA9EEDXmAzYHj3-t48rq80dDHzAZtAE6BfT'}"
      ]
     },
     "execution_count": 14,
     "metadata": {},
     "output_type": "execute_result"
    }
   ],
   "source": [
    "topics[0]"
   ]
  },
  {
   "cell_type": "code",
   "execution_count": 18,
   "metadata": {},
   "outputs": [
    {
     "name": "stdout",
     "output_type": "stream",
     "text": [
      "Extracting Lumi data...\n",
      "Creating doc table...\n"
     ]
    },
    {
     "name": "stderr",
     "output_type": "stream",
     "text": [
      "/usr/local/lib/python3.6/site-packages/se_code-0.1-py3.6.egg/se_code/fuzzy_logic.py:38: RuntimeWarning: invalid value encountered in double_scalars\n"
     ]
    },
    {
     "name": "stdout",
     "output_type": "stream",
     "text": [
      "Writing to file doc_table.csv.\n",
      "Writing to file xref_table.csv.\n",
      "Writing to file doc_term_table.csv.\n",
      "Writing to file doc_topic_table.csv.\n",
      "Creating themes table...\n",
      "Writing to file themes_table.csv.\n",
      "Creating subset key terms table...\n",
      "Writing to file skt_table.csv.\n",
      "Writing to file drivers_table.csv.\n",
      "Writing to file trends_table.csv.\n",
      "Writing to file trendingterms_table.csv.\n"
     ]
    }
   ],
   "source": [
    "%run tableau_export.py d53m338v pr3n28bw -t 150"
   ]
  },
  {
   "cell_type": "code",
   "execution_count": null,
   "metadata": {
    "collapsed": true
   },
   "outputs": [],
   "source": []
  }
 ],
 "metadata": {
  "kernelspec": {
   "display_name": "Python 3",
   "language": "python",
   "name": "python3"
  },
  "language_info": {
   "codemirror_mode": {
    "name": "ipython",
    "version": 3
   },
   "file_extension": ".py",
   "mimetype": "text/x-python",
   "name": "python",
   "nbconvert_exporter": "python",
   "pygments_lexer": "ipython3",
   "version": "3.6.1"
  }
 },
 "nbformat": 4,
 "nbformat_minor": 2
}
