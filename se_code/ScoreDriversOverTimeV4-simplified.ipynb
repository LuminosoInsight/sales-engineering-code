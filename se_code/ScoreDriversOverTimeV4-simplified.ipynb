{
 "cells": [
  {
   "cell_type": "markdown",
   "metadata": {},
   "source": [
    "## Score Drivers Over Time\n",
    "\n",
    "Given an project which includes a date field, and topics you are interested in finding score driver, this find the score driver for each topic contained in the project.\n",
    "\n",
    "This script will read all the documents from the project you specify. It reads them in and creates a new project using one weeks' worth of data for a 52 week period. It keeps 16 weeks of documents as it roles towards the final output.\n",
    "\n",
    "The input is an account_id/project_id and a project name which is used when writing the output file.\n",
    "\n",
    "The documents in the project will need to have predictors. The output is based on a score driver for each topic/predictor combination for the date specified.  For best results the project needs at least 52 weeks of data leading up to the final 16 week window.\n",
    "\n",
    "v4 added the use of a branch function to create the new project instead of creating a new project from scratch. This saves doc count."
   ]
  },
  {
   "cell_type": "code",
   "execution_count": 1,
   "metadata": {},
   "outputs": [],
   "source": [
    "from luminoso_api import LuminosoClient\n",
    "import datetime, time, json, os, csv\n",
    "import numpy, pack64"
   ]
  },
  {
   "cell_type": "markdown",
   "metadata": {},
   "source": [
    "### Inputs\n",
    "Give an luminoso url: \"https://analytics.luminoso.com/app/#/projects/p87t862f/prkhfs6b\"\n",
    "Change these values to match the project you would like to run score drivers against\n",
    "\n",
    "account_id = p87t862f\n",
    "\n",
    "project_id = prkhfs6b"
   ]
  },
  {
   "cell_type": "code",
   "execution_count": 5,
   "metadata": {},
   "outputs": [],
   "source": [
    "account_id = 'c86f546w' # account id that holds the project\n",
    "project_id = 'prdcj9gb' # project with all the data\n",
    "project_name = 'Name_Here' # results file will include this name"
   ]
  },
  {
   "cell_type": "code",
   "execution_count": 3,
   "metadata": {},
   "outputs": [],
   "source": [
    "# Get Master Data \n",
    "docs = []\n",
    "client = LuminosoClient.connect('/projects/{}/{}'.format(account_id,project_id)) \n",
    "while True:\n",
    "    new_docs = client.get('docs', limit=25000, offset=len(docs), doc_fields=['text',\n",
    "                                                                            'date',\n",
    "                                                                            'predict',\n",
    "                                                                            'source',\n",
    "                                                                            'title',\n",
    "                                                                            'subsets',\n",
    "                                                                            '_id'])\n",
    "    if new_docs:\n",
    "        docs.extend(new_docs)\n",
    "    else:\n",
    "        break\n",
    "topics = client.get('topics')"
   ]
  },
  {
   "cell_type": "code",
   "execution_count": 4,
   "metadata": {},
   "outputs": [],
   "source": [
    "def wait_for_recalculation(client):\n",
    "    print('Waiting for recalculation')\n",
    "    counter = 0\n",
    "    while True:\n",
    "        time.sleep(15)\n",
    "        counter += 15\n",
    "        print('Been waiting {} sec.'.format(counter))\n",
    "        if not client.get()['running_jobs']:\n",
    "            break"
   ]
  },
  {
   "cell_type": "markdown",
   "metadata": {},
   "source": [
    "### Topics\n",
    "If you would like to use topics from a different project, you can use this section to copy those topics to this project. To copy topics from another project, change the topic_project_id to be the source project id (by default the project is the same as the current project_id). Then uncomment the last three lines which sets the topics from the project of your choice into the project we are running score drivers against. "
   ]
  },
  {
   "cell_type": "code",
   "execution_count": 6,
   "metadata": {},
   "outputs": [],
   "source": [
    "# Pull in the topic to be measured over time from a previous project\n",
    "topic_project_id = project_id\n",
    "#topic_project_id = 'pr5wd46r'\n",
    "client1 = LuminosoClient.connect('/projects/{}/{}'.format(account_id,topic_project_id)) #change this to be the project with the saved topics to be measured over time\n",
    "topics = client1.get('topics')\n",
    "\n",
    "#client2 = LuminosoClient.connect('/projects/{}/{}'.format(account_id,project_id))  #change this account ID to be your account\n",
    "#for topic in topics:\n",
    "#    client2.post('topics',text=topic['text'],name=topic['name'])"
   ]
  },
  {
   "cell_type": "code",
   "execution_count": 7,
   "metadata": {
    "scrolled": true
   },
   "outputs": [
    {
     "data": {
      "text/plain": [
       "[{'vector': 'WAg9ASC8oa6a4FndCREBNr_H12fk5CEGPoOXiGdO22_FJk0D-Eka3y67rEDk5DaIB-hAV-JqVA_P-7rCCtQcZ8ra4HGEyw_Jc36SEK9CgP-U_2Ki50J9orKaTFdID67BC66OtEAMB0YFj8GjW9LhHuDERYCoT3hdER_CXlA427whDhUEze6-f0VGF6t8SM-n1DfmIDAAWh6TQK01Atk4m_-C7_hDAfN_19EU3IhbDNWCGXBq17cw-088SW-z156C7dn90qBJL9jTENE-l7-kvASe-h6BDlAwdCqj8wXAnt_a9DBFFKk-dR_b0Fzi5ot5un9anB6HBo4C0-HwMCEv8nt-If-Sg9-19KXJYw1Rt23WBSfG9h_Ct9w1D534F1CASBZQ-5X7jr_8iDEt-t7GZW5Px7AgBBc_HQAaY9_7KcpCW4JZOIVG362En2Cy9BcqCkS',\n",
       "  'color': '#808080',\n",
       "  '_id': '934f2323-9667-4017-b9a5-709b0891f94f',\n",
       "  'name': 'reception',\n",
       "  'text': 'reception'},\n",
       " {'vector': 'WBmPEa3648BfuDHYDFiEm49_I7w08p4KeJUh2D5R7nFHWB5-UH1e5tJJUw5sFAMUDnbAF0DyVCX1DUtE5lDSJPQT7cT7SrCPe4KBJLD_ngBXY0Mo4cG_RwEmF_4K89eAqK-o46vmH5k4kdFBmCrKAA7COJF7C6JHFC-JBbAok5RS87-BqdALzE453zfBXKGD5-HQBmH5kL05mLZECSz2W_EB0GMC5fIEPSFhQLxW9mR-W79HIFoEATh_zB7HB95f7K3A2r-xz6qUC4a7_iAhvFka_qpB9z-OoHk2Aas_th-_pDpaFeuFlR-wWDyiAIr-ir8tq-xF62g65K9MQ_Z257j7u1DoO74nCgIGkdAWS8vvD-uDIfCWHLWbEe9-1qBm8_xX77OAy-Ap-CIwDao5NPDjmBIl8HjDx16Dm9ynBfTG0OIinG6N9M7A2U7Sa9OQ-Gr',\n",
       "  'color': '#808080',\n",
       "  '_id': 'ab7019df-35fc-45ab-91a9-543fa298b8d7',\n",
       "  'name': 'luggage',\n",
       "  'text': 'luggage'},\n",
       " {'vector': 'WAsR7CE5YOBbwFSKCQ7EziCoU98_-peGHNRggEUm9ON5Hvw5EJCP_jj4l5wAUBwK_seFgsCaHEaJ9tfE-iLy9Ga_Daz-gOBHN8gXCjJEO3CK74CE9I34sNHENBcSBAxA3V6osBOaLM66g_CMq-bDKL1BarHUV72BBSNA518JQ6zeAN4DTD_h08OoAan8Nf__TDBkBWB9rt2gALznCzByT6DMvHkTCqrAZYBGRAhYD4g9Qf-3D-XoCWS7dAC-564H6TdGF3CGw6Y3KH_5PY-tZCkzGJeA8kDGGBsT94zIJuCBUHFQH7MADR_xU8Vk946FqyBlXBlxDrX3hd_pzEjf9pnDq4Bk_ElnCJf9odBc-8vl8iCCkp6NHJ4wGTW-s7A2OBkADexEwY8zJCX1F7VB5eIwpA1Z7ayCgN_rp_3DGam9i_DbLGKS7CEAqCCsW2DTC_I',\n",
       "  'color': '#808080',\n",
       "  '_id': 'ca93b6a1-daae-4b3b-9d71-a135057c941b',\n",
       "  'name': 'departure',\n",
       "  'text': 'departure'},\n",
       " {'vector': 'W_dlDV6KK3LyX5pT7rcQw1FRiAS89nU-e42EM-LQBwmKFeCDhGj9CNYBWabFJFQLH8OAl_5Fe2NmNMa-A1B-41BWIIJKgOJ9Q6DiEUSAF02wjFzI325FG-_jJCYH_bZAomCxL4lM4JP_it_3T-PsAuQB4TzXq9EzAPnD0GGPFB4i-Bi7PzAy25H_BlgBRB6SCDkt9dA9EHFBfDF7EluCKx5NBCkD7qL9da-2S9zM9XTB4rDKsEy-5ePEjUBJR-SCCEt9Bx-HyEUV64hEimBH16ecDNyAHhFgw_2XDJd-UDBcd-66ARS-wj5EuEvp9oAGDS-GsAwOBVPCZLEsg-anIBr_BlACPD-6CLoCXf9T16meDvQDRNBBm9FHBG8-p9BxiDsa8_0AL2_q6A8fCmNEp7_GNAwyBe5_0KG8EBMxBFHBeNDJcAal9aSBbu_DWEHI_Ms',\n",
       "  'color': '#808080',\n",
       "  '_id': '4eac9ca3-e7ea-4674-88fb-673457f17636',\n",
       "  'name': 'pool',\n",
       "  'text': 'pool,lobby,area'},\n",
       " {'vector': 'W-ZBEYt_qpHQPCQu8M7KvsDEx612ApPCviMYX6RO_psFI86rw-tK_UlF3a0pHCQ0J39G14C6O3jNARp3t1FyUSW78Qm0CfEvI9CrH2qD8_Elj8Xx9lW7tDCeNDVsAkQ5uT7S_BcbG-s9DLCLqHs2_By57jGh90rsCjTSe9AFT_Pp9cQDoGFuk8OL3-Y6kzF24-bWAQS26MGebFD-9Ih80-_lE_6yD-9B7jBh9AES_ty7n09vAI1yApKFS4-E9Cs1APMCAZFeL4FsA3396ZBduB7z6HmDvN76iFcKAVGA0M9YZ-pt5MfDGs8zK-vHAAl_K3CHICHe8Yg5Rm7uFAhz_JJ7Y6_2S9pmBPP_BJBfi9iD_9EB4Z7gFG5vLgnBJ4Ev5B2IBxHBWfH4aDgiFvwG71Hpd-exF3KBD2_YvE7wMfXBPM9qcCsuCm58ojC3x7FSD7V',\n",
       "  'color': '#808080',\n",
       "  '_id': 'c4c0512b-f7cc-4f44-b496-18540a36a9a3',\n",
       "  'name': 'transport',\n",
       "  'text': 'transport'},\n",
       " {'vector': 'W_xOBuL3vRASiJuR_ag4g7-sE0UO6dEEqYTk_-kV63694376hHNe-SJFhL13eEtYCZJKcwCUTHQk_EvKz3Nr8K39_IOCnbAo76JZBAWBYS_N91Zv5CJ9z9CAHAklAbO-Ye7jSD6qGrPAU2_aD2tlGUwFdqBMo4iSAbC-kZ-o41WxEQTFWz7v0-tK8YkCZCEKtBF0Aja-3J2C3Mm-Cqc7oDADnDm39_WBtI-xXKmyCWLC__DUQCVxB2Z6Tn4YM4M-ARiEX8_P0CBvExc4jO_AH_4WCNo852DOa83hEw_DxuBTxJiwEgvHDg-ZPFFb7noF3G8fCD1w9_dDPbCVYB8U8ys8Bx4asCoh8ceCH89pD-MkDMi-3fKX-5zZ_0WDz5Ar9A4L8B-_mi-coBCUBfsEzKAIF3IxCiCA6h9-EB6CFUk-F-FXV68C4r6FhG-8-6SWBfF',\n",
       "  'color': '#808080',\n",
       "  '_id': '7a3208ee-d565-4914-ad19-da5dc914a49f',\n",
       "  'name': 'reservations',\n",
       "  'text': 'reservations'},\n",
       " {'vector': 'V_2hB6B-K7uyUI8nAOOD5X91UjYXvQpBbKLqQMmb5mzMYp4DJC1XxDJPSJ85dGihADe4-8PySzGyD9iE2gTmFCHnqeT9xAABk6MOHga9KO84Z48s7Kn7socZqJ25AYfO3Mp8D-0FNkWCcSKkJ9WBN-nFf3KSmx3gNfsBVh_AH1xI_4k5EKCGvmyZIb9ESR74p8z-WS4EHn4hGMMtHpmzj12hI7mXyzy77IKUoYjIB3sBqYBAPnM31G8IqN8K10JPGjWGVy8fS1qPLO--ib6_wDQyILDGJ0Qx8HPs1vb-ReGCQDyeLw3Lho3sx-1z4Qr3n21BxGs6-2bMrCJloJwg6qh4XNJGGu1D-zuS1nwkY2qp8xtUvLyeGDtPJ116P19DpGr24gADvM6ds-KP-stQBI5nO8h2A8g6PxE53-kvXYVKYn7jwFlRq159QfCq560BOQg',\n",
       "  'color': '#808080',\n",
       "  '_id': 'aeecbfeb-e3d2-4852-8571-756343274b96',\n",
       "  'name': 'concierge',\n",
       "  'text': 'concierge'},\n",
       " {'vector': 'VEQuB1T8TR52uzxNI7rs8V1-qEh36K_RX_ErFJt88GpHG29CHXU8wi6AU1SGFsNhuSWD1BCJT_cA-amTCoP8ksX9x--IRT5zmL79VldQFzp5S0nYxQEAiqEnXD72A4rR_D-ZhI-FOLVAmd9XuAfLtF1IqSRsXBReZlH3k0_DF9-5-LSNpCBDND_ORNz5C5CNfCofElxK7LAJyOcB4Lhr4c86S_GLAOr4ptMQ46LjAd57J84IeE3s947SQeS_yIAR3cbpYV5WqD_LGmTAG2vDQK9KLV_8I9w78FEhvldMVp03-FIUUoxAPlyr84vhDlP2PnQOdCLHNXQCSp8xkLPRAlxCAe7T6Btr-i9H3nzqd9HiM7zLnkyVf-H0IG---GJKzF4M3iW9iuFNY8e89FJU9CEhox6J_CUD2_8qv8H8-qy9dK7c8EwR5Vc9gHE5svf7E3D',\n",
       "  'color': '#808080',\n",
       "  '_id': 'ab85d6a8-0424-4e57-8927-71b6ab0511f2',\n",
       "  'name': 'turndown',\n",
       "  'text': 'turndown'},\n",
       " {'vector': 'WERPBrgALVFenxlxBCVwRZ38V8rt-AqGQ8G60-Y-_1rAY17AEFIzD947aYAnn7Vp-_r_DkC9_8XqH448dCHciCXx_onJI6JRkA3iJvEE7X6tk6-a5LZ-PTBqo0Ho4mS8msA_hBTvHsG-r4_jg-wZ-OBDRB5yIFdLAtaMFrQe07tPAYxDcc6UBJwYDE82i6BFv6un8DTC_BEwZ92u2y59qVIjR41y9no_5Q-mx_A2IXcA3V5FjC3t9VKCl9H4u_b56Sv9xJAynFmGzbkDTd9xt4hoHEq78aCe5F9s_nOAnC8VR_dZE2C7gJFbtAzk6rh-qi7Bv-Qz_PYGXx3-2-nIDQ15vr_aFDB6HKxA_h7F9_SdHf5D_I9oB7MrAfxBlk9vp9-06kp-wL_A95es-g8DCe_vw8UTAE3Dvz9l14lrBzNDd9Ijt7NdC3lC8IB-jAdV_hu',\n",
       "  'color': '#808080',\n",
       "  '_id': '4778e797-6636-4d49-a53b-23cda9da85ed',\n",
       "  'name': 'drinks',\n",
       "  'text': 'drinks'},\n",
       " {'vector': 'VC3bBpbJCnGRQpFB2--iae-uo0vs14KTS7-ni36wMdt4C5Ds999s8DI0Hb7RE_vlJN0vbHQ6V1WgK9fxcmCRj9g-YbdK5R78h4C-8ITHJTz42xWYpIKNLNzKz7kMURpJx239oNGKTJg6tH9pR1fj-TMFnBi6pCze62fz_aA4hHdjwTCIHv34JyFE_W1tcvBFm8PoDuIOUa93H8UpAew4egQQbizh05N-A26bj1_q7gfSj2uDN7cg7_h6sW4901L79979cJyRLCvLw6l_0P3FG-dc-iWtY38ouFykEmZNXT6_X8U0C4m06n0dszn09F9tb13CM_eq-vcIqf7xXBg5HQRBwa6RlGzpKPSF7J1TH5_OKuv-YNDChEWmzrwKoe1sr7fSFTKJmK_L2BtVJHjDTNJZQ1us9kpF2x51T0jIJthNHbPsAA0BF_7FRLQZ0Hzv-Hb',\n",
       "  'color': '#808080',\n",
       "  '_id': 'bd436c6a-e700-4715-8d96-e71602626f99',\n",
       "  'name': 'buffet',\n",
       "  'text': 'buffet'},\n",
       " {'vector': 'VKifKmz_XTLnKtLMBQB_oLxjLuwGyZ1SQIRD1Lxg1qJYzhD0gbOjIvLGBRY-d2afHEKDBb3fV0FwP1GG101SfIbK7Oz9PoMhhzmKRafWTZIa160gxa7zcPQUgvzWDllHODm75yfMW0-A8DIClHvUv1pEeCE0-4m7FYvEkE4V_00x6DAAkuJYtyJ3B1sIBdDgX-RxBoyKIw48B_o-9FAyMp7q1KTZs5X9op07b-vI8rJ3egQSTulMGpWHxu9RvBWoBB_usX9W36d7-IbBhI6P94aZAx6KwTCw0Kbjwh3ERVRD9G1BA5EKAG3sN4OyDqh-eH3YGDvSEx8JhdFYH_ufIqK3WBJyx8PFCg95HP4zZAjhVsiIS84r4Pw2Io7IimH5jLkM0XGQCC7Il52JFsxEVo9xm4QO0IN_KO5X2EddPQyPEVJkhCFxGikDSi76HIE-BhZ',\n",
       "  'color': '#808080',\n",
       "  '_id': 'bbdbd531-2369-4dc2-abe1-1f4e2d2a174c',\n",
       "  'name': 'laundry',\n",
       "  'text': 'laundry'},\n",
       " {'vector': 'V8hQEIEKxsBhN7e61HZDkdFD42Vl4WqvvWkgwO1X_gZ9NoF4KLFjAEmB1SOpKtTU-j-9fF2eSqY8MlCIugF19FhGUVFAfkQmhSSsAY3HJK4i3O6g_svB-t-VszOb7-aKAH8ECOLoFlTKod8POvZtBoL8SmDPJ9Idz3q6zsAst7o3Kh4-0hvris3yAheL9B3pnF-tDasGwlD_6-HFG2RKXkUv0GTLrJo3AGoiSLS5w-QOFjJRgx9LD9dMB59fX_C5AKz6Dr1hqVD4MhXQAt7Bj8IpML3OCoH2jC8n7TYKGwLVrC7nJLoKXCqznC9k1y7KX5-nW3QiFVd_9xzmMC2GWTOGTED0tAfv-Z3Dz1-i5CPdTY5C3F9KB4m-IaQOWG3Hg6qSHXvD_ADqeEueT3BU-VS2J59z-WnnmoBbXCO_EtZHd4zbl3px8LDKW_LQb5m7_2S',\n",
       "  'color': '#808080',\n",
       "  '_id': '4de13195-d632-4476-8b1c-8ea89ba723d9',\n",
       "  'name': 'spa',\n",
       "  'text': 'spa'},\n",
       " {'vector': 'V82WFIDDf1G-E6z1-UkTZj6ah4Cq2yA7SkrsIHJ50XzKayE8FCa8yRU-J9X_lugeKSaxzC_PwlZ7X0e_oi3Ux8P2PquHvPR0-LL7ORuD7x9NCJOSsUr-DE5mprm3FxGB3wAft5kC42n9Vk-ttBPK45HFCEyyQ59sG7p-E2HsXHBmFjjzwnBscnXFMR7RhwAarA7ECZZImqBFcP_kHidDXdK-2BferAC3Fr8Cu_HS9rzKA4WPMB9kGrcAvdHTXJOoJonypBGBmPnJBVYNMq-O4BAhR6lAXjOMtH9tPDXEPUGhMIoI8k7Labsf0C06GsWL0d9QAICcGyEKtc4oc7nfUWB1PAHSZ-EdO9t6GM8QO_FgM3kIU12Xb3fxyqIJSW9KH8xI-RCQjcFEb9z-ZevKeWEJaJ7l1h6xKT9noJkv0UZQTE2Kh8Io6HBHacArf8dK0oF',\n",
       "  'color': '#808080',\n",
       "  '_id': 'b8e7eb9c-b48e-4d9a-a74a-a75572c6c17c',\n",
       "  'name': 'gym',\n",
       "  'text': 'gym'},\n",
       " {'vector': 'WAdTCPICW4CpU_euDD4JwwC5mA8O9KFEwM7SFEno--qJsLCreK9zFNwD7KbP14nZEpQ9969mf71xI42EivC7kw64GbFHTnHrD7YUEzXF33zVr9H8zBILGG_W5Hvr-8NDsY_Kh6LiCJsBYZAA_7lv_NvIF_C4eBmtHSg6dG-OYDp8EMIDutBem93w81zG-s981FPV64ZE_j8TKLRtCO36pR7OkHQ3-h5_PNDV7B9o67A-F5HfUIzP_7a_wi8gG_I_-GN9OTAJjBwYGOD9FODw8_GOFzs8qyF1D7CJ92pBTwCitDWX--YB824AH80jBtJF8BEi5_OtCyQB3BFGu_S6-TV_hDBSmCxH_jD5o4BY3-L6-Qw_sP-2m-E4_gjBwKGDMK3i7qI66i-ImBwd96XDu87I88Sx77L-AkEZjBQS7w5-oe-U4Dhu-Hh8l1DReAUZ_3w',\n",
       "  'color': '#808080',\n",
       "  '_id': '3015eb63-45ee-4d5f-91db-6b1feb75a8eb',\n",
       "  'name': 'room',\n",
       "  'text': 'room'},\n",
       " {'vector': 'V-r_DVVJMMDwHoRq8ozjqs760zMK11IIQgF2s9K7DLwvCM2A7_kL89at030p8EGJHQktN9JtH8TvNF4y1aG0W4AidqzG2H-Jx07W-JAMLy8Yt9Pz2ZiDv57o3_z9YJ6Ex68B8OcsMz13mgF7PxmGAVdFV0gF8_WFr8R58l-9jK3A2r1M6DvYT133GfBqh18U68HZAe2J1RC6azDfFx4Cu8StesgNypB67t9Hq14D_oWWpvufl6M98Pbz4g2Pl0WE-bs-JbzyQHOruKeGhb53pBqP9hm2Iy7t6Jki6-uNDY2sWAsEH0w3SP6EA2jV-nbuKVysVBKB9YuSzp777-zJHSy9SI8MODgfCM_8MRya64DhQl7ACWJPn_5N1yxB8x4GhDhgCTyJ528csBl4KQrFTUFqJxM38_eDU68nSxDfKhECXJNte_ZaEbiA_7QXMKXYESj',\n",
       "  'color': '#808080',\n",
       "  '_id': 'b0b461ef-4fff-487a-92c4-48f95023b82e',\n",
       "  'name': 'dinner',\n",
       "  'text': 'dinner'},\n",
       " {'vector': 'VHwnCed6Jw2UWAToEwi60I2E8sJyr6gDxdDwhI9CsQSVChC8iMJc51MKAIJGQ-Tu-f9BKIGFH0v-Gy8RNQDY2q5Nyqv-uh8gh3_tPxrR5KBCX2xo11YAs2PnAQauI7wS8noglFSlMZ383IH4WIZK-6aJCeQQf65uJPPvUUqMC6Sp2TG9fdFiMkhRK82Mec29460iK8jJQS4KUE1MDSs3XIsGbCBL-Ju4XAIExF1EKnjAOy5HPoMY8SUBCpNnPz9eGJh7Xo4gh5MqMMvEeGFWN7PtFeDD63Ke_F-rziE3g9RVIHpE-GI-CQ8sp3PdFQi2T0_vNEb4IzsB5eErcQlNGMD6YhClI-WP9ytLJQx1H3wnBudUqz4UmIc_IiT-EP1MCMfG1g4McR7lRtxuI8JIhU6r25bqxDd6oH4NH-WAPM7KU3-alQWI2YG7KHOIbB7fSn6',\n",
       "  'color': '#808080',\n",
       "  '_id': '6dc0c1cd-699a-4c10-879e-9aa8a82d850c',\n",
       "  'name': 'housekeeping',\n",
       "  'text': 'housekeeping'},\n",
       " {'vector': 'W_Aw-lf5iSATHDfiCCV__dEWK7tT7QICjqTFiHuR5a_8iLuWAMXU8Ce_wizIVA2w8laEVyDzZIjP6SHDUtOKYDi_6-B_bW_uB6_pEiODYpAUw1C14oZ59DLUxCxLDC5AE68vS-DqIOr85DEO_--JGtJA_HLYP7YsEZE-kq_M16WiGLWFUt8iZ7MdCFS9ywE2aESXEc9AJB182JiN_Yv0FQAi4HyXEW4Cj0EjaEwgDet5nC-WMBAf9oF7y0ATS8Bq8GMFNfDi9-DZFhk2hQ86cD47GVSCn3_WcC3S9EFEBVC_ZF7MID9_Rp-T5_kG9a8D6rCe0_GDAir8FtAYKDu88NTD8C_7mDgF_hzC4c-DD7Uu-6DDCI-TLEcTEyn9MzFPYD6_Euy-Hk9PLDqyCjhFI-FCh99WBPfBGSA8tB1dDD9A4dF2_E235mmC-RAcC4shC3b',\n",
       "  'color': '#808080',\n",
       "  '_id': '321a7433-0d77-4ad3-959a-b8af8b941adb',\n",
       "  'name': 'arrival',\n",
       "  'text': 'arrival'},\n",
       " {'vector': 'V-YIDIgIMEC8Dm8R_Ewj1j73a0NO0jPIdWxQX3naJInxpMF2E34P-_kzlf-BY-spLKyzd6R4Vq3eFrA3h7Gm_1VcYbQLeCBgjA2REFWFXz1w93jTs3rO4byyHG5fU8QNIjx0VLXSIvg0dq9e-7p70EnEHbt3xEa-GMU4ZS_fRJWmxkFIX19tjsIsLBluPW51r_XjISXRp_KR-7tDDF2wkgNKIjf406a8PaAEc5ek0jUPlq2P_2maHwVAasBj36qTA4qAZwqFnGlB19ZGto_55_7OK9Es_G6rwIIG6iWR3202nBUKBju8AqqEo0DB3cT7j6-yBCrlAlMCJR4wBDMLJrqEQW9a_NY4J3V9rf5P27RYP-4Ea-xew46wyJALzo6d0-T-AGXF9W3fDBAYFPBINAB0MyID5d8CxqDBnx8sBxQLZIE7D-G26WyCqqM8YExF3qb',\n",
       "  'color': '#808080',\n",
       "  '_id': 'cd358a26-9597-46f9-b4be-07b66b1d55cb',\n",
       "  'name': 'breakfast',\n",
       "  'text': 'breakfast'}]"
      ]
     },
     "execution_count": 7,
     "metadata": {},
     "output_type": "execute_result"
    }
   ],
   "source": [
    "#check the topics to confirm \n",
    "topics"
   ]
  },
  {
   "cell_type": "markdown",
   "metadata": {},
   "source": [
    "## Date window\n",
    "Set the end_date here for the final week you would like to calculate.\n",
    "\n",
    "Given that final week 'end_date', the starting date will be set 'weeks_to_process' weeks in the past and the processing will start there. Given that each week will process 'rolling_weeks' worth of data leading up to and including that week, the first week will be 'rolling weeks' into the future of that starting date.\n",
    "\n",
    "For instance if I choose, the date May 25, 2018 and set weeks to process to 52 and set rolling_weeks to 16, the starting date will be May 26, 2017, but the first week that get's processed will by (May 5, 2017 plus 16 weeks) which is  September 15, 2017. There will be 52 - 16 = 36 weekly calculated result sets.  Each result set calculates the prior 'rolling_weeks' in this case 16 weeks of data prior to the week being calculated.\n",
    "\n",
    "If you have more sample data each week you can reduce the 'rolling_weeks' or increase 'rolling_weeks' in sparse data sets to have enough language to process.\n",
    "\n"
   ]
  },
  {
   "cell_type": "code",
   "execution_count": 8,
   "metadata": {},
   "outputs": [],
   "source": [
    "end_date='2018-06-27'\n",
    "date_format='%Y-%m-%d'\n",
    "end_time_final = int(time.mktime(time.strptime(end_date,date_format)))\n",
    "weeks_to_process = 17 # will start 16 (rolling_weeks) weeks into this number so there is enough data for each week\n",
    "rolling_weeks = 16 "
   ]
  },
  {
   "cell_type": "code",
   "execution_count": 9,
   "metadata": {
    "scrolled": false
   },
   "outputs": [
    {
     "name": "stdout",
     "output_type": "stream",
     "text": [
      "opening output file\n",
      "start date: 2018-02-27 (1519801200)\n",
      "end date: 2018-06-20 (1519801200)\n",
      "starting branch size=62828\n",
      "finished branch\n",
      "Waiting for recalculation\n",
      "Been waiting 15 sec.\n",
      "Been waiting 30 sec.\n",
      "Been waiting 45 sec.\n",
      "Been waiting 60 sec.\n",
      "Been waiting 75 sec.\n",
      "Been waiting 90 sec.\n",
      "Been waiting 105 sec.\n",
      "Been waiting 120 sec.\n",
      "Been waiting 135 sec.\n",
      "Been waiting 150 sec.\n",
      "Waiting for recalculation\n",
      "Been waiting 15 sec.\n",
      "Dumping predictor results into file\n",
      "DONE\n"
     ]
    }
   ],
   "source": [
    "# Sort by date, split by week, run ScoreDrivers\n",
    "docs = sorted(docs, key=lambda k: k['date'])\n",
    "idx = 0\n",
    "\n",
    "end_index = weeks_to_process - rolling_weeks\n",
    "week_ids = {}\n",
    "predictors = []\n",
    "deep_drivers = []\n",
    "\n",
    "# set the initial end_time which will be 16 weeks back\n",
    "#end_time = start_time\n",
    "start_time = end_time_final - (60*60*24*7*weeks_to_process)\n",
    "end_time = start_time + (60*60*24*7*rolling_weeks)\n",
    "\n",
    "fieldnames=['doc_count','term','text','vector','regressor_dot','driver_score','similar_terms','related_terms',\n",
    "           'week','predictor', 'date']\n",
    "print(\"opening output file\")\n",
    "with open('ScoreDriversOverTime{}_results.csv'.format(project_name), 'a') as file:\n",
    "    writer = csv.DictWriter(file, fieldnames=fieldnames)\n",
    "    writer.writeheader()\n",
    "    while idx<end_index:\n",
    "        print(\"start date: {} ({})\".format(datetime.datetime.fromtimestamp(start_time).strftime('%Y-%m-%d'),str(start_time)))\n",
    "        print(\"end date: {} ({})\".format(datetime.datetime.fromtimestamp(end_time).strftime('%Y-%m-%d'),str(start_time)))\n",
    "\n",
    "        doc_ids = [d['_id'] for d in docs if d['date'] >= start_time and d['date'] < end_time]\n",
    "        subsets = list({s for d in docs for s in d['subsets']})\n",
    "        \n",
    "        print(\"starting branch size=\"+str(len(doc_ids)))\n",
    "        branch_results = client.post('project/branch/',ids=doc_ids)\n",
    "        print(\"finished branch\")\n",
    "        client_branch = LuminosoClient.connect(branch_results['path'])\n",
    "        \n",
    "        #client_branch.post('docs/recalculate')\n",
    "        wait_for_recalculation(client_branch)\n",
    "        client_branch.post('prediction/train')\n",
    "        wait_for_recalculation(client_branch)\n",
    "\n",
    "        trained_regressors = client_branch.upload('prediction',[{'text':'this is a test'}])[0]\n",
    "        predictors = list(trained_regressors.keys())\n",
    "        predictors = list(set(predictors))\n",
    "\n",
    "        print('Dumping predictor results into file')\n",
    "        #print('  Predictors: {}'.format(str(predictors)))\n",
    "        for predictor in predictors:\n",
    "            drivers = client_branch.put('prediction/drivers', predictor_name=predictor)\n",
    "            for driver in drivers:\n",
    "                # ADDED RELATED TERMS\n",
    "                driver['predictor'] = predictor\n",
    "                driver['week'] = idx\n",
    "                driver['date'] = end_time\n",
    "                doc_count = client_branch.get('terms/doc_counts', terms=driver['terms'], use_json=True)\n",
    "                count_sum = 0\n",
    "                for doc_dict in doc_count:\n",
    "                    count_sum += (doc_dict['num_exact_matches'] + doc_dict['num_related_matches'])\n",
    "                driver['doc_count'] = count_sum\n",
    "                if idx == 52:\n",
    "                    print(driver)\n",
    "\n",
    "            writer.writerows([{k:v for k,v in d.items() if k in fieldnames} for d in drivers])\n",
    "            #print('Dumped results to file. Predictor: {}'.format(predictor))\n",
    "        \n",
    "        # delete the project\n",
    "        \n",
    "        end_time = end_time + 60*60*24*7\n",
    "        start_time = end_time - (60*60*24*7*rolling_weeks)\n",
    "\n",
    "        \n",
    "        idx += 1\n",
    "print(\"DONE\")"
   ]
  },
  {
   "cell_type": "code",
   "execution_count": 10,
   "metadata": {},
   "outputs": [
    {
     "data": {
      "text/plain": [
       "'Deleted.'"
      ]
     },
     "execution_count": 10,
     "metadata": {},
     "output_type": "execute_result"
    }
   ],
   "source": [
    "# delete the project\n",
    "delete_result = client_branch.delete()\n",
    "delete_result"
   ]
  },
  {
   "cell_type": "code",
   "execution_count": null,
   "metadata": {},
   "outputs": [],
   "source": []
  }
 ],
 "metadata": {
  "kernelspec": {
   "display_name": "Python 3",
   "language": "python",
   "name": "python3"
  },
  "language_info": {
   "codemirror_mode": {
    "name": "ipython",
    "version": 3
   },
   "file_extension": ".py",
   "mimetype": "text/x-python",
   "name": "python",
   "nbconvert_exporter": "python",
   "pygments_lexer": "ipython3",
   "version": "3.6.5"
  }
 },
 "nbformat": 4,
 "nbformat_minor": 2
}
